{
 "cells": [
  {
   "cell_type": "markdown",
   "metadata": {},
   "source": [
    "# Lab 3\n",
    "\n",
    "Mitch Morrison, Kyle Kolodziej, Sam Yassien, Brian Pattison"
   ]
  },
  {
   "cell_type": "markdown",
   "metadata": {},
   "source": [
    "# Business Understanding\n",
    "Our dataset on video game releases from kaggle (link) contains data about its critic and user scores, the platform it is being released on, the developer and publisher of the game, and their sales in different reigons worldwide. For our classification task, we plan on using our dataset to predict game sales (in units, not dollars) into multiple different ranges. Since the range at which sales for video game units vary so largely, we chose to separate our classification groups in a way that allowed us to best balance the amount of video games in each category. See the visualizations below for a better explanation of why we needed to cut our sales categories this way.\n",
    "\n",
    "We intend on using this data to forecast unit sales of video games based on the attributes listed above. This does not require real-time forecasting because in order to have a proper forecasting model the user will need to collect user and critic scores as well as basic information about the game."
   ]
  },
  {
   "cell_type": "markdown",
   "metadata": {},
   "source": [
    "<h2>Data Preparation</h2>"
   ]
  },
  {
   "cell_type": "code",
   "execution_count": 257,
   "metadata": {},
   "outputs": [],
   "source": [
    "#imports\n",
    "import pandas as pd\n",
    "import numpy as np\n",
    "import seaborn as sns\n",
    "import matplotlib\n",
    "import matplotlib.pyplot as plt\n",
    "import warnings\n",
    "warnings.filterwarnings('ignore')"
   ]
  },
  {
   "cell_type": "code",
   "execution_count": 258,
   "metadata": {},
   "outputs": [
    {
     "data": {
      "text/html": [
       "<div>\n",
       "<style scoped>\n",
       "    .dataframe tbody tr th:only-of-type {\n",
       "        vertical-align: middle;\n",
       "    }\n",
       "\n",
       "    .dataframe tbody tr th {\n",
       "        vertical-align: top;\n",
       "    }\n",
       "\n",
       "    .dataframe thead th {\n",
       "        text-align: right;\n",
       "    }\n",
       "</style>\n",
       "<table border=\"1\" class=\"dataframe\">\n",
       "  <thead>\n",
       "    <tr style=\"text-align: right;\">\n",
       "      <th></th>\n",
       "      <th>Name</th>\n",
       "      <th>Platform</th>\n",
       "      <th>Year_of_Release</th>\n",
       "      <th>Genre</th>\n",
       "      <th>Publisher</th>\n",
       "      <th>NA_Sales</th>\n",
       "      <th>EU_Sales</th>\n",
       "      <th>JP_Sales</th>\n",
       "      <th>Other_Sales</th>\n",
       "      <th>Global_Sales</th>\n",
       "      <th>Critic_Score</th>\n",
       "      <th>Critic_Count</th>\n",
       "      <th>User_Score</th>\n",
       "      <th>User_Count</th>\n",
       "      <th>Developer</th>\n",
       "      <th>Rating</th>\n",
       "    </tr>\n",
       "  </thead>\n",
       "  <tbody>\n",
       "    <tr>\n",
       "      <th>0</th>\n",
       "      <td>Wii Sports</td>\n",
       "      <td>Wii</td>\n",
       "      <td>2006.0</td>\n",
       "      <td>Sports</td>\n",
       "      <td>Nintendo</td>\n",
       "      <td>41.36</td>\n",
       "      <td>28.96</td>\n",
       "      <td>3.77</td>\n",
       "      <td>8.45</td>\n",
       "      <td>82.53</td>\n",
       "      <td>76.0</td>\n",
       "      <td>51.0</td>\n",
       "      <td>8</td>\n",
       "      <td>322.0</td>\n",
       "      <td>Nintendo</td>\n",
       "      <td>E</td>\n",
       "    </tr>\n",
       "    <tr>\n",
       "      <th>1</th>\n",
       "      <td>Super Mario Bros.</td>\n",
       "      <td>NES</td>\n",
       "      <td>1985.0</td>\n",
       "      <td>Platform</td>\n",
       "      <td>Nintendo</td>\n",
       "      <td>29.08</td>\n",
       "      <td>3.58</td>\n",
       "      <td>6.81</td>\n",
       "      <td>0.77</td>\n",
       "      <td>40.24</td>\n",
       "      <td>NaN</td>\n",
       "      <td>NaN</td>\n",
       "      <td>NaN</td>\n",
       "      <td>NaN</td>\n",
       "      <td>NaN</td>\n",
       "      <td>NaN</td>\n",
       "    </tr>\n",
       "    <tr>\n",
       "      <th>2</th>\n",
       "      <td>Mario Kart Wii</td>\n",
       "      <td>Wii</td>\n",
       "      <td>2008.0</td>\n",
       "      <td>Racing</td>\n",
       "      <td>Nintendo</td>\n",
       "      <td>15.68</td>\n",
       "      <td>12.76</td>\n",
       "      <td>3.79</td>\n",
       "      <td>3.29</td>\n",
       "      <td>35.52</td>\n",
       "      <td>82.0</td>\n",
       "      <td>73.0</td>\n",
       "      <td>8.3</td>\n",
       "      <td>709.0</td>\n",
       "      <td>Nintendo</td>\n",
       "      <td>E</td>\n",
       "    </tr>\n",
       "    <tr>\n",
       "      <th>3</th>\n",
       "      <td>Wii Sports Resort</td>\n",
       "      <td>Wii</td>\n",
       "      <td>2009.0</td>\n",
       "      <td>Sports</td>\n",
       "      <td>Nintendo</td>\n",
       "      <td>15.61</td>\n",
       "      <td>10.93</td>\n",
       "      <td>3.28</td>\n",
       "      <td>2.95</td>\n",
       "      <td>32.77</td>\n",
       "      <td>80.0</td>\n",
       "      <td>73.0</td>\n",
       "      <td>8</td>\n",
       "      <td>192.0</td>\n",
       "      <td>Nintendo</td>\n",
       "      <td>E</td>\n",
       "    </tr>\n",
       "    <tr>\n",
       "      <th>4</th>\n",
       "      <td>Pokemon Red/Pokemon Blue</td>\n",
       "      <td>GB</td>\n",
       "      <td>1996.0</td>\n",
       "      <td>Role-Playing</td>\n",
       "      <td>Nintendo</td>\n",
       "      <td>11.27</td>\n",
       "      <td>8.89</td>\n",
       "      <td>10.22</td>\n",
       "      <td>1.00</td>\n",
       "      <td>31.37</td>\n",
       "      <td>NaN</td>\n",
       "      <td>NaN</td>\n",
       "      <td>NaN</td>\n",
       "      <td>NaN</td>\n",
       "      <td>NaN</td>\n",
       "      <td>NaN</td>\n",
       "    </tr>\n",
       "  </tbody>\n",
       "</table>\n",
       "</div>"
      ],
      "text/plain": [
       "                       Name Platform  Year_of_Release         Genre Publisher  \\\n",
       "0                Wii Sports      Wii           2006.0        Sports  Nintendo   \n",
       "1         Super Mario Bros.      NES           1985.0      Platform  Nintendo   \n",
       "2            Mario Kart Wii      Wii           2008.0        Racing  Nintendo   \n",
       "3         Wii Sports Resort      Wii           2009.0        Sports  Nintendo   \n",
       "4  Pokemon Red/Pokemon Blue       GB           1996.0  Role-Playing  Nintendo   \n",
       "\n",
       "   NA_Sales  EU_Sales  JP_Sales  Other_Sales  Global_Sales  Critic_Score  \\\n",
       "0     41.36     28.96      3.77         8.45         82.53          76.0   \n",
       "1     29.08      3.58      6.81         0.77         40.24           NaN   \n",
       "2     15.68     12.76      3.79         3.29         35.52          82.0   \n",
       "3     15.61     10.93      3.28         2.95         32.77          80.0   \n",
       "4     11.27      8.89     10.22         1.00         31.37           NaN   \n",
       "\n",
       "   Critic_Count User_Score  User_Count Developer Rating  \n",
       "0          51.0          8       322.0  Nintendo      E  \n",
       "1           NaN        NaN         NaN       NaN    NaN  \n",
       "2          73.0        8.3       709.0  Nintendo      E  \n",
       "3          73.0          8       192.0  Nintendo      E  \n",
       "4           NaN        NaN         NaN       NaN    NaN  "
      ]
     },
     "execution_count": 258,
     "metadata": {},
     "output_type": "execute_result"
    }
   ],
   "source": [
    "df = pd.read_csv('../../Video_game_dataset.csv')\n",
    "df.head()"
   ]
  },
  {
   "cell_type": "code",
   "execution_count": 259,
   "metadata": {},
   "outputs": [
    {
     "name": "stdout",
     "output_type": "stream",
     "text": [
      "<class 'pandas.core.frame.DataFrame'>\n",
      "RangeIndex: 16719 entries, 0 to 16718\n",
      "Data columns (total 16 columns):\n",
      " #   Column           Non-Null Count  Dtype  \n",
      "---  ------           --------------  -----  \n",
      " 0   Name             16717 non-null  object \n",
      " 1   Platform         16719 non-null  object \n",
      " 2   Year_of_Release  16450 non-null  float64\n",
      " 3   Genre            16717 non-null  object \n",
      " 4   Publisher        16665 non-null  object \n",
      " 5   NA_Sales         16719 non-null  float64\n",
      " 6   EU_Sales         16719 non-null  float64\n",
      " 7   JP_Sales         16719 non-null  float64\n",
      " 8   Other_Sales      16719 non-null  float64\n",
      " 9   Global_Sales     16719 non-null  float64\n",
      " 10  Critic_Score     8137 non-null   float64\n",
      " 11  Critic_Count     8137 non-null   float64\n",
      " 12  User_Score       10015 non-null  object \n",
      " 13  User_Count       7590 non-null   float64\n",
      " 14  Developer        10096 non-null  object \n",
      " 15  Rating           9950 non-null   object \n",
      "dtypes: float64(9), object(7)\n",
      "memory usage: 2.0+ MB\n"
     ]
    }
   ],
   "source": [
    "df.info()"
   ]
  },
  {
   "cell_type": "markdown",
   "metadata": {},
   "source": [
    "Our dataset has as significant amount of missing data in attributes that we want to use to predict video game sales worldwide. Rather than imputing this data, since the amount of missing data is so large it will serve is better to drop all instances with NA values."
   ]
  },
  {
   "cell_type": "code",
   "execution_count": 260,
   "metadata": {},
   "outputs": [
    {
     "name": "stdout",
     "output_type": "stream",
     "text": [
      "<class 'pandas.core.frame.DataFrame'>\n",
      "RangeIndex: 6825 entries, 0 to 6824\n",
      "Data columns (total 16 columns):\n",
      " #   Column           Non-Null Count  Dtype  \n",
      "---  ------           --------------  -----  \n",
      " 0   Name             6825 non-null   object \n",
      " 1   Platform         6825 non-null   object \n",
      " 2   Year_of_Release  6825 non-null   float64\n",
      " 3   Genre            6825 non-null   object \n",
      " 4   Publisher        6825 non-null   object \n",
      " 5   NA_Sales         6825 non-null   float64\n",
      " 6   EU_Sales         6825 non-null   float64\n",
      " 7   JP_Sales         6825 non-null   float64\n",
      " 8   Other_Sales      6825 non-null   float64\n",
      " 9   Global_Sales     6825 non-null   float64\n",
      " 10  Critic_Score     6825 non-null   float64\n",
      " 11  Critic_Count     6825 non-null   float64\n",
      " 12  User_Score       6825 non-null   object \n",
      " 13  User_Count       6825 non-null   float64\n",
      " 14  Developer        6825 non-null   object \n",
      " 15  Rating           6825 non-null   object \n",
      "dtypes: float64(9), object(7)\n",
      "memory usage: 853.2+ KB\n"
     ]
    }
   ],
   "source": [
    "# drop null value instances and reset index\n",
    "df = df.dropna()\n",
    "df = df.reset_index(drop=True)\n",
    "df.info()"
   ]
  },
  {
   "cell_type": "markdown",
   "metadata": {},
   "source": [
    "We can see that by dropping all the rows with NA values, we now have only around 40% of our initial data. This is still greater than the 1000 instances needed."
   ]
  },
  {
   "cell_type": "code",
   "execution_count": 261,
   "metadata": {},
   "outputs": [],
   "source": [
    "# adjust types to properly fit data\n",
    "df['User_Score'] = df['User_Score'].astype(np.float)\n",
    "df['Year_of_Release'] = df['Year_of_Release'].astype(np.int)"
   ]
  },
  {
   "cell_type": "code",
   "execution_count": 262,
   "metadata": {},
   "outputs": [
    {
     "name": "stdout",
     "output_type": "stream",
     "text": [
      "<class 'pandas.core.frame.DataFrame'>\n",
      "RangeIndex: 6825 entries, 0 to 6824\n",
      "Data columns (total 16 columns):\n",
      " #   Column           Non-Null Count  Dtype  \n",
      "---  ------           --------------  -----  \n",
      " 0   Name             6825 non-null   object \n",
      " 1   Platform         6825 non-null   object \n",
      " 2   Year_of_Release  6825 non-null   int64  \n",
      " 3   Genre            6825 non-null   object \n",
      " 4   Publisher        6825 non-null   object \n",
      " 5   NA_Sales         6825 non-null   float64\n",
      " 6   EU_Sales         6825 non-null   float64\n",
      " 7   JP_Sales         6825 non-null   float64\n",
      " 8   Other_Sales      6825 non-null   float64\n",
      " 9   Global_Sales     6825 non-null   float64\n",
      " 10  Critic_Score     6825 non-null   float64\n",
      " 11  Critic_Count     6825 non-null   float64\n",
      " 12  User_Score       6825 non-null   float64\n",
      " 13  User_Count       6825 non-null   float64\n",
      " 14  Developer        6825 non-null   object \n",
      " 15  Rating           6825 non-null   object \n",
      "dtypes: float64(9), int64(1), object(6)\n",
      "memory usage: 853.2+ KB\n"
     ]
    }
   ],
   "source": [
    "df.info()"
   ]
  },
  {
   "cell_type": "code",
   "execution_count": 263,
   "metadata": {},
   "outputs": [
    {
     "data": {
      "text/html": [
       "<div>\n",
       "<style scoped>\n",
       "    .dataframe tbody tr th:only-of-type {\n",
       "        vertical-align: middle;\n",
       "    }\n",
       "\n",
       "    .dataframe tbody tr th {\n",
       "        vertical-align: top;\n",
       "    }\n",
       "\n",
       "    .dataframe thead th {\n",
       "        text-align: right;\n",
       "    }\n",
       "</style>\n",
       "<table border=\"1\" class=\"dataframe\">\n",
       "  <thead>\n",
       "    <tr style=\"text-align: right;\">\n",
       "      <th></th>\n",
       "      <th>Name</th>\n",
       "      <th>Platform</th>\n",
       "      <th>Year_of_Release</th>\n",
       "      <th>Genre</th>\n",
       "      <th>Publisher</th>\n",
       "      <th>NA_Sales</th>\n",
       "      <th>EU_Sales</th>\n",
       "      <th>JP_Sales</th>\n",
       "      <th>Other_Sales</th>\n",
       "      <th>Global_Sales</th>\n",
       "      <th>Critic_Score</th>\n",
       "      <th>Critic_Count</th>\n",
       "      <th>User_Score</th>\n",
       "      <th>User_Count</th>\n",
       "      <th>Developer</th>\n",
       "      <th>Rating</th>\n",
       "    </tr>\n",
       "  </thead>\n",
       "  <tbody>\n",
       "    <tr>\n",
       "      <th>0</th>\n",
       "      <td>Wii Sports</td>\n",
       "      <td>Wii</td>\n",
       "      <td>2006</td>\n",
       "      <td>Sports</td>\n",
       "      <td>Nintendo</td>\n",
       "      <td>41.36</td>\n",
       "      <td>28.96</td>\n",
       "      <td>3.77</td>\n",
       "      <td>8.45</td>\n",
       "      <td>82.53</td>\n",
       "      <td>76.0</td>\n",
       "      <td>51.0</td>\n",
       "      <td>8.0</td>\n",
       "      <td>322.0</td>\n",
       "      <td>Nintendo</td>\n",
       "      <td>E</td>\n",
       "    </tr>\n",
       "    <tr>\n",
       "      <th>1</th>\n",
       "      <td>Mario Kart Wii</td>\n",
       "      <td>Wii</td>\n",
       "      <td>2008</td>\n",
       "      <td>Racing</td>\n",
       "      <td>Nintendo</td>\n",
       "      <td>15.68</td>\n",
       "      <td>12.76</td>\n",
       "      <td>3.79</td>\n",
       "      <td>3.29</td>\n",
       "      <td>35.52</td>\n",
       "      <td>82.0</td>\n",
       "      <td>73.0</td>\n",
       "      <td>8.3</td>\n",
       "      <td>709.0</td>\n",
       "      <td>Nintendo</td>\n",
       "      <td>E</td>\n",
       "    </tr>\n",
       "    <tr>\n",
       "      <th>2</th>\n",
       "      <td>Wii Sports Resort</td>\n",
       "      <td>Wii</td>\n",
       "      <td>2009</td>\n",
       "      <td>Sports</td>\n",
       "      <td>Nintendo</td>\n",
       "      <td>15.61</td>\n",
       "      <td>10.93</td>\n",
       "      <td>3.28</td>\n",
       "      <td>2.95</td>\n",
       "      <td>32.77</td>\n",
       "      <td>80.0</td>\n",
       "      <td>73.0</td>\n",
       "      <td>8.0</td>\n",
       "      <td>192.0</td>\n",
       "      <td>Nintendo</td>\n",
       "      <td>E</td>\n",
       "    </tr>\n",
       "    <tr>\n",
       "      <th>3</th>\n",
       "      <td>New Super Mario Bros.</td>\n",
       "      <td>DS</td>\n",
       "      <td>2006</td>\n",
       "      <td>Platform</td>\n",
       "      <td>Nintendo</td>\n",
       "      <td>11.28</td>\n",
       "      <td>9.14</td>\n",
       "      <td>6.50</td>\n",
       "      <td>2.88</td>\n",
       "      <td>29.80</td>\n",
       "      <td>89.0</td>\n",
       "      <td>65.0</td>\n",
       "      <td>8.5</td>\n",
       "      <td>431.0</td>\n",
       "      <td>Nintendo</td>\n",
       "      <td>E</td>\n",
       "    </tr>\n",
       "    <tr>\n",
       "      <th>4</th>\n",
       "      <td>Wii Play</td>\n",
       "      <td>Wii</td>\n",
       "      <td>2006</td>\n",
       "      <td>Misc</td>\n",
       "      <td>Nintendo</td>\n",
       "      <td>13.96</td>\n",
       "      <td>9.18</td>\n",
       "      <td>2.93</td>\n",
       "      <td>2.84</td>\n",
       "      <td>28.92</td>\n",
       "      <td>58.0</td>\n",
       "      <td>41.0</td>\n",
       "      <td>6.6</td>\n",
       "      <td>129.0</td>\n",
       "      <td>Nintendo</td>\n",
       "      <td>E</td>\n",
       "    </tr>\n",
       "  </tbody>\n",
       "</table>\n",
       "</div>"
      ],
      "text/plain": [
       "                    Name Platform  Year_of_Release     Genre Publisher  \\\n",
       "0             Wii Sports      Wii             2006    Sports  Nintendo   \n",
       "1         Mario Kart Wii      Wii             2008    Racing  Nintendo   \n",
       "2      Wii Sports Resort      Wii             2009    Sports  Nintendo   \n",
       "3  New Super Mario Bros.       DS             2006  Platform  Nintendo   \n",
       "4               Wii Play      Wii             2006      Misc  Nintendo   \n",
       "\n",
       "   NA_Sales  EU_Sales  JP_Sales  Other_Sales  Global_Sales  Critic_Score  \\\n",
       "0     41.36     28.96      3.77         8.45         82.53          76.0   \n",
       "1     15.68     12.76      3.79         3.29         35.52          82.0   \n",
       "2     15.61     10.93      3.28         2.95         32.77          80.0   \n",
       "3     11.28      9.14      6.50         2.88         29.80          89.0   \n",
       "4     13.96      9.18      2.93         2.84         28.92          58.0   \n",
       "\n",
       "   Critic_Count  User_Score  User_Count Developer Rating  \n",
       "0          51.0         8.0       322.0  Nintendo      E  \n",
       "1          73.0         8.3       709.0  Nintendo      E  \n",
       "2          73.0         8.0       192.0  Nintendo      E  \n",
       "3          65.0         8.5       431.0  Nintendo      E  \n",
       "4          41.0         6.6       129.0  Nintendo      E  "
      ]
     },
     "execution_count": 263,
     "metadata": {},
     "output_type": "execute_result"
    }
   ],
   "source": [
    "# taking a look at our cleaned data\n",
    "df.head()"
   ]
  },
  {
   "cell_type": "code",
   "execution_count": 264,
   "metadata": {},
   "outputs": [
    {
     "data": {
      "text/plain": [
       "4377"
      ]
     },
     "execution_count": 264,
     "metadata": {},
     "output_type": "execute_result"
    }
   ],
   "source": [
    "len(df['Name'].unique())"
   ]
  },
  {
   "cell_type": "markdown",
   "metadata": {},
   "source": [
    "Since there are only 4377 unique game names, this implies that some games exist on multiple consoles or the same game is being released on the same console in different years."
   ]
  },
  {
   "cell_type": "markdown",
   "metadata": {},
   "source": [
    "<h3>Taking a look at how we will create classification categories</h3>\n"
   ]
  },
  {
   "cell_type": "code",
   "execution_count": 265,
   "metadata": {},
   "outputs": [
    {
     "data": {
      "image/png": "[encoded data removed]",
      "text/plain": [
       "<Figure size 432x288 with 1 Axes>"
      ]
     },
     "metadata": {
      "needs_background": "light"
     },
     "output_type": "display_data"
    }
   ],
   "source": [
    "dfLowSales = df[df['Global_Sales'] < 1]\n",
    "dfLowSales.Global_Sales.plot(kind='hist', alpha=0.5, label=\"Global Sales\")\n",
    "plt.legend()\n",
    "plt.xlabel(\"Sales in Millions of Units\")\n",
    "# plt.yscale(\"log\")\n",
    "plt.show()"
   ]
  },
  {
   "cell_type": "code",
   "execution_count": 281,
   "metadata": {},
   "outputs": [
    {
     "name": "stdout",
     "output_type": "stream",
     "text": [
      "0.0\n"
     ]
    }
   ],
   "source": [
    "print(len(df[df['Global_Sales'] < .1]) / len(df))\n",
    "index_names = df[ df['Global_Sales'] < .1 ].index \n",
    "df.drop(index_names, inplace = True)"
   ]
  },
  {
   "cell_type": "markdown",
   "metadata": {},
   "source": [
    "This plot indicates that nearly 4 out of 5 video games in our dataset reach less than 1 million unit sales."
   ]
  },
  {
   "cell_type": "code",
   "execution_count": 282,
   "metadata": {},
   "outputs": [
    {
     "data": {
      "image/png": "[encoded data removed]",
      "text/plain": [
       "<Figure size 432x288 with 1 Axes>"
      ]
     },
     "metadata": {
      "needs_background": "light"
     },
     "output_type": "display_data"
    }
   ],
   "source": [
    "df.Global_Sales.plot(kind='hist', alpha=0.5, label=\"Global Sales\")\n",
    "plt.legend()\n",
    "plt.yscale(\"log\")\n",
    "plt.xlabel(\"Sales in Millions of Units\")\n",
    "plt.show()"
   ]
  },
  {
   "cell_type": "markdown",
   "metadata": {},
   "source": [
    "We can see that only a handful of games reach above a few million unit sales. Note the y-axis is a log scale, indicating almost all samples fall in the first block of the histogram as we mentioned before. We will split our global sales data into 4 different categories (4 classification possibilities), attempting to see similar frequency of data in our low and medium_low unit sales categories. "
   ]
  },
  {
   "cell_type": "markdown",
   "metadata": {},
   "source": [
    "<h3>Cutting our data for our target classification attribute</h3>"
   ]
  },
  {
   "cell_type": "code",
   "execution_count": 268,
   "metadata": {},
   "outputs": [],
   "source": [
    "bins = [0,.3,.75,1e5]\n",
    "df['Global_Sales_Categories'] = pd.cut(df['Global_Sales'], \n",
    "                                           bins=bins, \n",
    "                                           labels=range(3)) # this creates a new variable"
   ]
  },
  {
   "cell_type": "code",
   "execution_count": 269,
   "metadata": {},
   "outputs": [
    {
     "data": {
      "text/plain": [
       "[Text(0, 0, 'Low'), Text(1, 0, 'Medium'), Text(2, 0, 'High')]"
      ]
     },
     "execution_count": 269,
     "metadata": {},
     "output_type": "execute_result"
    },
    {
     "data": {
      "image/png": "[encoded data removed]",
      "text/plain": [
       "<Figure size 432x288 with 1 Axes>"
      ]
     },
     "metadata": {
      "needs_background": "light"
     },
     "output_type": "display_data"
    }
   ],
   "source": [
    "xticks=['Low','Medium','High']\n",
    "ax = sns.countplot(x=\"Global_Sales_Categories\",data=df)\n",
    "ax.set_xticklabels(xticks)\n"
   ]
  },
  {
   "cell_type": "markdown",
   "metadata": {},
   "source": [
    "The histogram above indicates the amount of games that fall into each respective sales categories. We can see that both low and medium_low sales have ~2500 instances in each category. Now that we have cut our Global_Sales attribute into 4 different fields, we can encode our data to represent this. The groupby feature in pandas allows us the see the count of how many games fall into each category."
   ]
  },
  {
   "cell_type": "code",
   "execution_count": 288,
   "metadata": {},
   "outputs": [
    {
     "data": {
      "text/plain": [
       "0"
      ]
     },
     "execution_count": 288,
     "metadata": {},
     "output_type": "execute_result"
    }
   ],
   "source": [
    "df.groupby('Global_Sales_Categories').count()\n",
    "len(df[df['Global_Sales_Categories'].isna()])"
   ]
  },
  {
   "cell_type": "code",
   "execution_count": 289,
   "metadata": {},
   "outputs": [
    {
     "data": {
      "text/html": [
       "<div>\n",
       "<style scoped>\n",
       "    .dataframe tbody tr th:only-of-type {\n",
       "        vertical-align: middle;\n",
       "    }\n",
       "\n",
       "    .dataframe tbody tr th {\n",
       "        vertical-align: top;\n",
       "    }\n",
       "\n",
       "    .dataframe thead th {\n",
       "        text-align: right;\n",
       "    }\n",
       "</style>\n",
       "<table border=\"1\" class=\"dataframe\">\n",
       "  <thead>\n",
       "    <tr style=\"text-align: right;\">\n",
       "      <th></th>\n",
       "      <th>Platform_encoded</th>\n",
       "      <th>Genre_encoded</th>\n",
       "      <th>Publisher_encoded</th>\n",
       "      <th>Developer_encoded</th>\n",
       "      <th>Rating_encoded</th>\n",
       "      <th>Year_of_Release</th>\n",
       "      <th>Critic_Score</th>\n",
       "      <th>Critic_Count</th>\n",
       "      <th>User_Score</th>\n",
       "      <th>User_Count</th>\n",
       "    </tr>\n",
       "  </thead>\n",
       "  <tbody>\n",
       "    <tr>\n",
       "      <th>0</th>\n",
       "      <td>12</td>\n",
       "      <td>10</td>\n",
       "      <td>106</td>\n",
       "      <td>598</td>\n",
       "      <td>1</td>\n",
       "      <td>2006</td>\n",
       "      <td>76.0</td>\n",
       "      <td>51.0</td>\n",
       "      <td>8.0</td>\n",
       "      <td>322.0</td>\n",
       "    </tr>\n",
       "    <tr>\n",
       "      <th>1</th>\n",
       "      <td>12</td>\n",
       "      <td>6</td>\n",
       "      <td>106</td>\n",
       "      <td>598</td>\n",
       "      <td>1</td>\n",
       "      <td>2008</td>\n",
       "      <td>82.0</td>\n",
       "      <td>73.0</td>\n",
       "      <td>8.3</td>\n",
       "      <td>709.0</td>\n",
       "    </tr>\n",
       "    <tr>\n",
       "      <th>2</th>\n",
       "      <td>12</td>\n",
       "      <td>10</td>\n",
       "      <td>106</td>\n",
       "      <td>598</td>\n",
       "      <td>1</td>\n",
       "      <td>2009</td>\n",
       "      <td>80.0</td>\n",
       "      <td>73.0</td>\n",
       "      <td>8.0</td>\n",
       "      <td>192.0</td>\n",
       "    </tr>\n",
       "    <tr>\n",
       "      <th>3</th>\n",
       "      <td>2</td>\n",
       "      <td>4</td>\n",
       "      <td>106</td>\n",
       "      <td>598</td>\n",
       "      <td>1</td>\n",
       "      <td>2006</td>\n",
       "      <td>89.0</td>\n",
       "      <td>65.0</td>\n",
       "      <td>8.5</td>\n",
       "      <td>431.0</td>\n",
       "    </tr>\n",
       "    <tr>\n",
       "      <th>4</th>\n",
       "      <td>12</td>\n",
       "      <td>3</td>\n",
       "      <td>106</td>\n",
       "      <td>598</td>\n",
       "      <td>1</td>\n",
       "      <td>2006</td>\n",
       "      <td>58.0</td>\n",
       "      <td>41.0</td>\n",
       "      <td>6.6</td>\n",
       "      <td>129.0</td>\n",
       "    </tr>\n",
       "  </tbody>\n",
       "</table>\n",
       "</div>"
      ],
      "text/plain": [
       "   Platform_encoded  Genre_encoded  Publisher_encoded  Developer_encoded  \\\n",
       "0                12             10                106                598   \n",
       "1                12              6                106                598   \n",
       "2                12             10                106                598   \n",
       "3                 2              4                106                598   \n",
       "4                12              3                106                598   \n",
       "\n",
       "   Rating_encoded  Year_of_Release  Critic_Score  Critic_Count  User_Score  \\\n",
       "0               1             2006          76.0          51.0         8.0   \n",
       "1               1             2008          82.0          73.0         8.3   \n",
       "2               1             2009          80.0          73.0         8.0   \n",
       "3               1             2006          89.0          65.0         8.5   \n",
       "4               1             2006          58.0          41.0         6.6   \n",
       "\n",
       "   User_Count  \n",
       "0       322.0  \n",
       "1       709.0  \n",
       "2       192.0  \n",
       "3       431.0  \n",
       "4       129.0  "
      ]
     },
     "execution_count": 289,
     "metadata": {},
     "output_type": "execute_result"
    }
   ],
   "source": [
    "from sklearn import preprocessing\n",
    "\n",
    "categorical = ['Platform', 'Genre', 'Publisher', 'Developer', 'Rating']\n",
    "numData = ['Year_of_Release', 'Critic_Score', 'Critic_Count', 'User_Score', 'User_Count']\n",
    "\n",
    "numerical = pd.DataFrame()\n",
    "le = preprocessing.LabelEncoder()\n",
    "\n",
    "merged = []\n",
    "\n",
    "for col in categorical:\n",
    "    name = col + '_encoded'\n",
    "    numerical[name] = le.fit_transform(df[col])\n",
    "    merged.append(name)\n",
    "    \n",
    "for col in numData:\n",
    "    numerical[col] = df[col]\n",
    "    merged.append(col)\n",
    "\n",
    "numerical.head()"
   ]
  },
  {
   "cell_type": "markdown",
   "metadata": {},
   "source": [
    "<h3>Test Train Split</h3>\n"
   ]
  },
  {
   "cell_type": "code",
   "execution_count": 293,
   "metadata": {},
   "outputs": [
    {
     "name": "stdout",
     "output_type": "stream",
     "text": [
      "X train shape: (4295, 10)\n",
      "X test shape: (1074, 10)\n",
      "Y train shape: (4295,)\n",
      "Y test shape: (1074,)\n"
     ]
    }
   ],
   "source": [
    "from sklearn.model_selection import train_test_split\n",
    "\n",
    "# X = df[['Platform', 'Year_of_Release', 'Genre', 'Publisher', 'Critic_Score', 'Critic_Count', 'User_Score', 'User_Count', 'Developer', 'Rating']].values\n",
    "# y = df['Global_Sales_Categories'].values\n",
    "\n",
    "X = numerical[merged].values\n",
    "intVals = pd.DataFrame()\n",
    "intVals['vals'] = df['Global_Sales_Categories'].astype(int)\n",
    "y = intVals['vals'].values.ravel()\n",
    "\n",
    "trainX, testX, trainY, testY = train_test_split(X, y, test_size=.2)\n",
    "\n",
    "print('X train shape:',trainX.shape)\n",
    "print('X test shape:',testX.shape)\n",
    "print('Y train shape:',trainY.shape)\n",
    "print('Y test shape:',testY.shape)"
   ]
  },
  {
   "cell_type": "code",
   "execution_count": null,
   "metadata": {},
   "outputs": [],
   "source": []
  },
  {
   "cell_type": "markdown",
   "metadata": {},
   "source": [
    "Splitting our dataset 80/20 does work. If we had a significant amount of more instances (say 2 million for example) we would not require such a high test train split ratio. With many instances, you can reduce the size of our testing set to a reasonable amount. With a dataset of 2 million instances, a testing set of 200,000 would likely suffice (90/10).\n",
    "\n",
    "We need to say why 80/20 is better than some other ratio."
   ]
  },
  {
   "cell_type": "markdown",
   "metadata": {},
   "source": [
    "<h2>One vs All</h2>"
   ]
  },
  {
   "cell_type": "code",
   "execution_count": 294,
   "metadata": {},
   "outputs": [],
   "source": [
    "from numpy.linalg import pinv\n",
    "from scipy.special import expit\n",
    "\n",
    "from sklearn.metrics import accuracy_score\n",
    "# from last time, our logistic regression algorithm is given by (including everything we previously had):\n",
    "class BinaryLogisticRegression:\n",
    "    def __init__(self, eta, iterations=20, technique = \"steepest\", C=0.001, regTerm = \"None\"):\n",
    "        self.eta = eta\n",
    "        self.iters = iterations\n",
    "        self.technique = technique\n",
    "        self.C = C\n",
    "        self.regTerm = regTerm\n",
    "        # internally we will store the weights as self.w_ to keep with sklearn conventions\n",
    "        \n",
    "    def __str__(self):\n",
    "        if(hasattr(self,'w_')):\n",
    "            return 'Binary Logistic Regression Object with coefficients:\\n'+ str(self.w_) # is we have trained the object\n",
    "        else:\n",
    "            return 'Untrained Binary Logistic Regression Object'\n",
    "        \n",
    "    # convenience, private:\n",
    "    @staticmethod\n",
    "    def _add_bias(X):\n",
    "        return np.hstack((np.ones((X.shape[0],1)),X)) # add bias term\n",
    "    \n",
    "    @staticmethod\n",
    "    def _sigmoid(theta):\n",
    "        # increase stability, redefine sigmoid operation\n",
    "        return expit(theta) #1/(1+np.exp(-theta))\n",
    "    \n",
    "    # vectorized gradient calculation with regularization using L2 Norm\n",
    "    def _get_gradient(self,X,y):\n",
    "        \n",
    "        if (self.technique == 'steepest'):\n",
    "            ydiff = y-self.predict_proba(X,add_bias=False).ravel() # get y difference\n",
    "            gradient = np.mean(X * ydiff[:,np.newaxis], axis=0) # make ydiff a column vector and multiply through\n",
    "            return gradient.reshape(self.w_.shape)\n",
    "        \n",
    "        elif (self.technique == 'stochGrad'):\n",
    "            idx = int(np.random.rand()*len(y)) # grab random instance\n",
    "            ydiff = y[idx]-self.predict_proba(X[idx],add_bias=False) # get y difference (now scalar)\n",
    "            gradient = X[idx] * ydiff[:,np.newaxis] # make ydiff a column vector and multiply through\n",
    "\n",
    "            gradient = gradient.reshape(self.w_.shape)\n",
    "            gradient[1:] += -2 * self.w_[1:] * self.C\n",
    "\n",
    "            return gradient\n",
    "        \n",
    "        elif (self.technique == 'newton'): \n",
    "            g = self.predict_proba(X,add_bias=False).ravel() # get sigmoid value for all classes\n",
    "            hessian = X.T @ np.diag(g*(1-g)) @ X - 2 * self.C # calculate the hessian\n",
    "\n",
    "            ydiff = y-g # get y difference\n",
    "            gradient = np.sum(X * ydiff[:,np.newaxis], axis=0) # make ydiff a column vector and multiply through\n",
    "            gradient = gradient.reshape(self.w_.shape)\n",
    "            gradient[1:] += -2 * self.w_[1:] * self.C\n",
    "\n",
    "            return pinv(hessian) @ gradient\n",
    "    \n",
    "    # public:\n",
    "    def predict_proba(self,X,add_bias=True):\n",
    "        # add bias term if requested\n",
    "        Xb = self._add_bias(X) if add_bias else X\n",
    "        return self._sigmoid(Xb @ self.w_) # return the probability y=1\n",
    "    \n",
    "    def predict(self,X):\n",
    "        return (self.predict_proba(X)>0.5) #return the actual prediction\n",
    "    \n",
    "    \n",
    "    def fit(self, X, y):\n",
    "        Xb = self._add_bias(X) # add bias term\n",
    "        num_samples, num_features = Xb.shape\n",
    "        \n",
    "        self.w_ = np.zeros((num_features,1)) # init weight vector to zeros\n",
    "        \n",
    "        # for as many as the max iterations\n",
    "        for _ in range(self.iters):\n",
    "            gradient = self._get_gradient(Xb,y)\n",
    "            self.w_ += gradient*self.eta # multiply by learning rate \n",
    "            # add because maximizing \n",
    "            # regularization terms\n",
    "            if(self.regTerm == 'L1' or self.regTerm == 'L1L2'):\n",
    "                self.w_[1:] -= self.C*abs(self.w_[1:]) # update not include bias\n",
    "            if(self.regTerm == 'L2' or self.regTerm == 'L1L2'):\n",
    "                self.w_[1:] += -2 * self.w_[1:] * self.C # taken from class code"
   ]
  },
  {
   "cell_type": "code",
   "execution_count": 295,
   "metadata": {},
   "outputs": [],
   "source": [
    "class LogisticRegression:\n",
    "    def __init__(self, eta, iterations=20, technique = \"steepest\", C=0.0, regTerm = \"None\"):\n",
    "        self.eta = eta\n",
    "        self.iters = iterations\n",
    "        self.C = C\n",
    "        self.regTerm = regTerm\n",
    "        self.technique = technique\n",
    "        # internally we will store the weights as self.w_ to keep with sklearn conventions\n",
    "    \n",
    "    def __str__(self):\n",
    "        if(hasattr(self,'w_')):\n",
    "            return 'MultiClass Logistic Regression Object with coefficients:\\n'+ str(self.w_) # is we have trained the object\n",
    "        else:\n",
    "            return 'Untrained MultiClass Logistic Regression Object'\n",
    "        \n",
    "    def fit(self,X,y):\n",
    "        num_samples, num_features = X.shape\n",
    "        self.unique_ = np.unique(y) # get each unique class value\n",
    "        num_unique_classes = len(self.unique_)\n",
    "        self.classifiers_ = [] # will fill this array with binary classifiers\n",
    "        \n",
    "        for i,yval in enumerate(self.unique_): # for each unique value\n",
    "            y_binary = (y==yval) # create a binary problem\n",
    "            # train the binary classifier for this class\n",
    "            blr = BinaryLogisticRegression(self.eta, self.iters, self.technique, self.C, self.regTerm)\n",
    "            blr.fit(X,y_binary)\n",
    "            # add the trained classifier to the list\n",
    "            self.classifiers_.append(blr)\n",
    "            \n",
    "        # save all the weights into one matrix, separate column for each class\n",
    "        self.w_ = np.hstack([x.w_ for x in self.classifiers_]).T\n",
    "        \n",
    "    def predict_proba(self,X):\n",
    "        probs = []\n",
    "        for blr in self.classifiers_:\n",
    "            probs.append(blr.predict_proba(X)) # get probability for each classifier\n",
    "        \n",
    "        return np.hstack(probs) # make into single matrix\n",
    "    \n",
    "    def predict(self,X):\n",
    "        return self.unique_[np.argmax(self.predict_proba(X),axis=1)] # take argmax along row"
   ]
  },
  {
   "cell_type": "code",
   "execution_count": 296,
   "metadata": {},
   "outputs": [],
   "source": [
    "    \n",
    "# lr = LogisticRegression(eta=0.01, iterations=100, technique=\"newton\", C=.001, regTerm=\"L2\")\n",
    "\n",
    "# lr.fit(trainX,trainY)\n",
    "# # print(lr)\n",
    "\n",
    "# yhat = lr.predict(testX)\n",
    "# print(np.unique(yhat))\n",
    "# print('Accuracy of: ',accuracy_score(testY,yhat))"
   ]
  },
  {
   "cell_type": "code",
   "execution_count": 297,
   "metadata": {},
   "outputs": [],
   "source": [
    "# lr1 = LogisticRegression(eta=0.01, iterations=1000, technique=\"steepest\", C=.005, regTerm=\"L2\")\n",
    "\n",
    "# lr1.fit(trainX,trainY)\n",
    "# # print(lr1)\n",
    "\n",
    "# yhat = lr1.predict(testX)\n",
    "# print(np.unique(yhat))\n",
    "# print('Accuracy of: ',accuracy_score(testY,yhat))"
   ]
  },
  {
   "cell_type": "code",
   "execution_count": 298,
   "metadata": {},
   "outputs": [],
   "source": [
    "# lr2 = LogisticRegression(eta=0.05, iterations=500, technique=\"stochGrad\", C=.01, regTerm=\"L2\")\n",
    "\n",
    "# lr2.fit(trainX,trainY)\n",
    "# # print(lr2)\n",
    "\n",
    "# yhat = lr2.predict(testX)\n",
    "# print(np.unique(yhat))\n",
    "# print('Accuracy of: ',accuracy_score(testY,yhat))"
   ]
  },
  {
   "cell_type": "code",
   "execution_count": 310,
   "metadata": {},
   "outputs": [],
   "source": [
    "def plotHyperparametersVsAccuracy(etas, etaDict, iterations, iterDict, C, cDict):\n",
    "    fig, (ax1, ax2, ax3) = plt.subplots(1, 3, figsize=(15,5))\n",
    "    fig.suptitle('Mean Accuracies vs. Hyperparameter')\n",
    "    etaMeans = [np.mean(accs) for accs in etaDict.values()]\n",
    "    ax1.plot(etas, etaMeans, 'o')\n",
    "    ax1.plot(etas, etaMeans)\n",
    "    ax1.set_xlabel('Eta Value')\n",
    "    ax1.set_ylabel('Mean Accuracy')\n",
    "    iterMeans = [np.mean(accs) for accs in iterDict.values()]\n",
    "    ax2.plot(iterations, iterMeans, 'o')\n",
    "    ax2.plot(iterations, iterMeans)\n",
    "    ax2.set_xlabel('Iterations')\n",
    "    ax2.set_ylabel('Mean Accuracy')\n",
    "    cMeans = [np.mean(accs) for accs in cDict.values()]\n",
    "    ax3.plot(C, cMeans, 'o')\n",
    "    ax3.plot(C, cMeans)\n",
    "    ax3.set_xlabel('C value')\n",
    "    ax3.set_ylabel('Mean Accuracy')\n",
    "    plt.show()    \n",
    "\n",
    "def plotMaxAccuracies(etas, etaDict, iterations, iterDict, C, cDict):\n",
    "    fig, (ax1, ax2, ax3) = plt.subplots(1, 3, figsize=(15,5))\n",
    "    fig.suptitle('Max Accuracies Reached vs. Hyperparameter')    \n",
    "    etaMax = [max(accs) for accs in etaDict.values()]\n",
    "    ax1.plot(etas, etaMax, 'o')\n",
    "    ax1.set_xlabel('Eta Value')\n",
    "    ax1.set_ylabel('Max Accuracy Reached')\n",
    "    iterMax = [max(accs) for accs in iterDict.values()]\n",
    "    ax2.plot(iterations, iterMax, 'o')\n",
    "    ax2.set_xlabel('Iterations')\n",
    "    ax2.set_ylabel('Max Accuracy Reached')\n",
    "    cMax = [max(accs) for accs in cDict.values()]\n",
    "    ax3.plot(C, cMax, 'o')\n",
    "    ax3.set_xlabel('C value')\n",
    "    ax3.set_ylabel('Max Accuracy Reached')\n",
    "    plt.show() "
   ]
  },
  {
   "cell_type": "code",
   "execution_count": 311,
   "metadata": {},
   "outputs": [],
   "source": [
    "def bruteForceParameterSearch(etas, iterations, C, regTerms, technique):\n",
    "    etaDict = {i : [] for i in etas}\n",
    "    iterDict = {i : [] for i in iterations}\n",
    "    cDict = {i : [] for i in C}\n",
    "\n",
    "    #Eta: 0.05 Iterations: 500 C: 0.001 RegTerm: L1 Accuracy of:  0.4823091247672253\n",
    "\n",
    "    for eta in etas :\n",
    "        for it in iterations :\n",
    "            for c in C :\n",
    "                for term in regTerms :\n",
    "                    lr2 = LogisticRegression(eta=eta, iterations=it, technique=technique, C=c, regTerm=term)\n",
    "                    lr2.fit(trainX,trainY)\n",
    "                    yhat = lr2.predict(testX)\n",
    "                    accuracy = accuracy_score(testY,yhat)\n",
    "                    etaDict[eta].append(accuracy)\n",
    "                    iterDict[it].append(accuracy)\n",
    "                    cDict[c].append(accuracy)\n",
    "                    print(\"Eta:\", eta, \"Iterations:\", it, \"C:\", c, \"RegTerm:\", term,'Accuracy of: ', accuracy)\n",
    "                    \n",
    "    plotHyperparametersVsAccuracy(etas, etaDict, iterations, iterDict, C, cDict)\n",
    "    plotMaxAccuracies(etas, etaDict, iterations, iterDict, C, cDict)"
   ]
  },
  {
   "cell_type": "code",
   "execution_count": 312,
   "metadata": {
    "scrolled": false
   },
   "outputs": [
    {
     "name": "stdout",
     "output_type": "stream",
     "text": [
      "This is using the stochastic gradient descent technique\n",
      "============================================\n",
      "Eta: 0.01 Iterations: 100 C: 0.005 RegTerm: L1 Accuracy of:  0.39664804469273746\n",
      "Eta: 0.01 Iterations: 100 C: 0.005 RegTerm: L2 Accuracy of:  0.31843575418994413\n",
      "Eta: 0.01 Iterations: 100 C: 0.01 RegTerm: L1 Accuracy of:  0.4664804469273743\n",
      "Eta: 0.01 Iterations: 100 C: 0.01 RegTerm: L2 Accuracy of:  0.3854748603351955\n",
      "Eta: 0.01 Iterations: 500 C: 0.005 RegTerm: L1 Accuracy of:  0.5195530726256983\n",
      "Eta: 0.01 Iterations: 500 C: 0.005 RegTerm: L2 Accuracy of:  0.30819366852886404\n",
      "Eta: 0.01 Iterations: 500 C: 0.01 RegTerm: L1 Accuracy of:  0.3957169459962756\n",
      "Eta: 0.01 Iterations: 500 C: 0.01 RegTerm: L2 Accuracy of:  0.3770949720670391\n",
      "Eta: 0.05 Iterations: 100 C: 0.005 RegTerm: L1 Accuracy of:  0.31843575418994413\n",
      "Eta: 0.05 Iterations: 100 C: 0.005 RegTerm: L2 Accuracy of:  0.31843575418994413\n",
      "Eta: 0.05 Iterations: 100 C: 0.01 RegTerm: L1 Accuracy of:  0.319366852886406\n",
      "Eta: 0.05 Iterations: 100 C: 0.01 RegTerm: L2 Accuracy of:  0.3845437616387337\n",
      "Eta: 0.05 Iterations: 500 C: 0.005 RegTerm: L1 Accuracy of:  0.4329608938547486\n",
      "Eta: 0.05 Iterations: 500 C: 0.005 RegTerm: L2 Accuracy of:  0.39013035381750466\n",
      "Eta: 0.05 Iterations: 500 C: 0.01 RegTerm: L1 Accuracy of:  0.39664804469273746\n",
      "Eta: 0.05 Iterations: 500 C: 0.01 RegTerm: L2 Accuracy of:  0.44227188081936686\n"
     ]
    },
    {
     "data": {
      "image/png": "[encoded data removed]",
      "text/plain": [
       "<Figure size 1080x360 with 3 Axes>"
      ]
     },
     "metadata": {
      "needs_background": "light"
     },
     "output_type": "display_data"
    },
    {
     "data": {
      "image/png": "[encoded data removed]",
      "text/plain": [
       "<Figure size 1080x360 with 3 Axes>"
      ]
     },
     "metadata": {
      "needs_background": "light"
     },
     "output_type": "display_data"
    }
   ],
   "source": [
    "print(\"This is using the stochastic gradient descent technique\")\n",
    "print(\"============================================\")\n",
    "\n",
    "# etas = [0.01, 0.05, 0.1, .25]\n",
    "# iterations = [100, 500, 1000, 1500]\n",
    "# C = [0.005, 0.01, 0.05, 0.1]\n",
    "# regTerms = [\"L1\", \"L2\", \"L1L2\", \"none\"]\n",
    "\n",
    "etas = [0.01, 0.05]\n",
    "iterations = [100, 500]\n",
    "C = [0.005, 0.01]\n",
    "regTerms = [\"L1\", \"L2\"]\n",
    "\n",
    "technique = \"steepest\"\n",
    "\n",
    "#Eta: 0.05 Iterations: 500 C: 0.001 RegTerm: L1 Accuracy of:  0.4823091247672253\n",
    "\n",
    "bruteForceParameterSearch(etas, iterations, C, regTerms, technique)\n"
   ]
  },
  {
   "cell_type": "code",
   "execution_count": null,
   "metadata": {
    "scrolled": false
   },
   "outputs": [],
   "source": [
    "print(\"This is using Newton's method\")\n",
    "print(\"============================================\")\n",
    "\n",
    "etas = [0.1, 0.5, 0.75, 1]\n",
    "iterations = [1, 3, 5, 7, 10]\n",
    "C = [0.01, 0.1, 0.5, 1]\n",
    "regTerms = [\"L1\", \"L2\", \"L1L2\", \"none\"]\n",
    "technique = \"newton\"\n",
    "\n",
    "bruteForceParameterSearch(etas, iterations, C, regTerms, technique)\n",
    "\n",
    "#Eta: 1 Iterations: 10 C: 0.1 RegTerm: L1 Accuracy of:  0.5391061452513967\n",
    "\n",
    "\n"
   ]
  },
  {
   "cell_type": "code",
   "execution_count": null,
   "metadata": {
    "scrolled": false
   },
   "outputs": [],
   "source": [
    "print(\"This is using the steepest descent technique\")\n",
    "print(\"============================================\")\n",
    "etas = [0.001, 0.01, 0.1]\n",
    "iterations = [10, 50, 100]\n",
    "C = [0.001, 0.01, 0.1]\n",
    "regTerms = [\"L1\", \"L2\", \"L1L2\", \"none\"]\n",
    "technique = \"steepDes\"\n",
    "\n",
    "bruteForceParameterSearch(etas, iterations, C, regTerms, technique)\n",
    "\n",
    "#Eta: 0.001 Iterations: 50 C: 0.1 RegTerm: L1 Accuracy of:  0.5195530726256983\n"
   ]
  },
  {
   "cell_type": "code",
   "execution_count": null,
   "metadata": {},
   "outputs": [],
   "source": [
    "%%time\n",
    "from sklearn.linear_model import LogisticRegression as SKLogisticRegression\n",
    "\n",
    "lr_sk = SKLogisticRegression(solver='liblinear')\n",
    "\n",
    "lr_sk.fit(trainX,trainY)\n",
    "yhat = lr_sk.predict(testX)\n",
    "print('Accuracy of: ',accuracy_score(testY,yhat))"
   ]
  },
  {
   "cell_type": "code",
   "execution_count": null,
   "metadata": {},
   "outputs": [],
   "source": [
    "%%time\n",
    "\n",
    "lr2 = LogisticRegression(1, 10, technique=\"newton\", C = 0.1, regTerm=\"L1\")\n",
    "lr2.fit(trainX,trainY)\n",
    "yhat = lr2.predict(testX)\n",
    "print('Accuracy of: ',accuracy_score(testY,yhat))\n",
    "                \n",
    "#Eta: 1 Iterations: 10 C: 0.1 RegTerm: L1 Accuracy of:  0.5391061452513967"
   ]
  },
  {
   "cell_type": "code",
   "execution_count": null,
   "metadata": {},
   "outputs": [],
   "source": [
    "%%time\n",
    "\n",
    "lr2 = LogisticRegression(0.001, 50, technique=\"steepest\", C = 0.1, regTerm=\"L1\")\n",
    "lr2.fit(trainX,trainY)\n",
    "yhat = lr2.predict(testX)\n",
    "print('Accuracy of: ',accuracy_score(testY,yhat))"
   ]
  },
  {
   "cell_type": "code",
   "execution_count": null,
   "metadata": {},
   "outputs": [],
   "source": [
    "%%time\n",
    "##Eta: 0.05 Iterations: 500 C: 0.001 RegTerm: L1L2 Accuracy of:  0.4823091247672253\n",
    "lr2 = LogisticRegression(0.05, 500, technique=\"stochGrad\", C = 0.001, regTerm=\"L1L2\")\n",
    "lr2.fit(trainX,trainY)\n",
    "yhat = lr2.predict(testX)\n",
    "print('Accuracy of: ',accuracy_score(testY,yhat))"
   ]
  },
  {
   "cell_type": "code",
   "execution_count": null,
   "metadata": {},
   "outputs": [],
   "source": []
  },
  {
   "cell_type": "code",
   "execution_count": null,
   "metadata": {},
   "outputs": [],
   "source": []
  }
 ],
 "metadata": {
  "kernelspec": {
   "display_name": "Python 3",
   "language": "python",
   "name": "python3"
  },
  "language_info": {
   "codemirror_mode": {
    "name": "ipython",
    "version": 3
   },
   "file_extension": ".py",
   "mimetype": "text/x-python",
   "name": "python",
   "nbconvert_exporter": "python",
   "pygments_lexer": "ipython3",
   "version": "3.7.4"
  }
 },
 "nbformat": 4,
 "nbformat_minor": 4
}
