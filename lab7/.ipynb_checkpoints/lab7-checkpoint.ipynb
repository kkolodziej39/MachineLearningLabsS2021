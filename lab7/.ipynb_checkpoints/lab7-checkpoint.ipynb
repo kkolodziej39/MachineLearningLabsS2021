{
 "cells": [
  {
   "cell_type": "code",
   "execution_count": null,
   "metadata": {},
   "outputs": [],
   "source": [
    "!pip install contractions"
   ]
  },
  {
   "cell_type": "code",
   "execution_count": null,
   "metadata": {},
   "outputs": [],
   "source": [
    "import numpy as np\n",
    "import pandas as pd\n",
    "import nltk\n",
    "from nltk.tokenize import word_tokenize\n",
    "from nltk.corpus import stopwords\n",
    "import contractions\n",
    "from sklearn.model_selection import train_test_split\n",
    "import string\n",
    "from matplotlib import pyplot as plt\n",
    "import regex as re\n",
    "from tensorflow import keras\n",
    "from tensorflow.keras.preprocessing import text, sequence\n",
    "from tensorflow.keras.layers import Embedding\n",
    "from tensorflow.keras.models import Sequential\n",
    "from tensorflow.keras.layers import Dense\n",
    "from tensorflow.keras.layers import LSTM, GRU"
   ]
  },
  {
   "cell_type": "markdown",
   "metadata": {},
   "source": [
    "## Reading in the data"
   ]
  },
  {
   "cell_type": "code",
   "execution_count": null,
   "metadata": {},
   "outputs": [],
   "source": [
    "true = pd.read_csv(\"../../news/True.csv\")\n",
    "false = pd.read_csv(\"../../news/Fake.csv\")"
   ]
  },
  {
   "cell_type": "code",
   "execution_count": null,
   "metadata": {},
   "outputs": [],
   "source": [
    "true.head()"
   ]
  },
  {
   "cell_type": "code",
   "execution_count": 5,
   "metadata": {},
   "outputs": [
    {
     "data": {
      "text/html": [
       "<div>\n",
       "<style scoped>\n",
       "    .dataframe tbody tr th:only-of-type {\n",
       "        vertical-align: middle;\n",
       "    }\n",
       "\n",
       "    .dataframe tbody tr th {\n",
       "        vertical-align: top;\n",
       "    }\n",
       "\n",
       "    .dataframe thead th {\n",
       "        text-align: right;\n",
       "    }\n",
       "</style>\n",
       "<table border=\"1\" class=\"dataframe\">\n",
       "  <thead>\n",
       "    <tr style=\"text-align: right;\">\n",
       "      <th></th>\n",
       "      <th>title</th>\n",
       "      <th>text</th>\n",
       "      <th>subject</th>\n",
       "      <th>date</th>\n",
       "    </tr>\n",
       "  </thead>\n",
       "  <tbody>\n",
       "    <tr>\n",
       "      <th>0</th>\n",
       "      <td>Donald Trump Sends Out Embarrassing New Year’...</td>\n",
       "      <td>Donald Trump just couldn t wish all Americans ...</td>\n",
       "      <td>News</td>\n",
       "      <td>December 31, 2017</td>\n",
       "    </tr>\n",
       "    <tr>\n",
       "      <th>1</th>\n",
       "      <td>Drunk Bragging Trump Staffer Started Russian ...</td>\n",
       "      <td>House Intelligence Committee Chairman Devin Nu...</td>\n",
       "      <td>News</td>\n",
       "      <td>December 31, 2017</td>\n",
       "    </tr>\n",
       "    <tr>\n",
       "      <th>2</th>\n",
       "      <td>Sheriff David Clarke Becomes An Internet Joke...</td>\n",
       "      <td>On Friday, it was revealed that former Milwauk...</td>\n",
       "      <td>News</td>\n",
       "      <td>December 30, 2017</td>\n",
       "    </tr>\n",
       "    <tr>\n",
       "      <th>3</th>\n",
       "      <td>Trump Is So Obsessed He Even Has Obama’s Name...</td>\n",
       "      <td>On Christmas day, Donald Trump announced that ...</td>\n",
       "      <td>News</td>\n",
       "      <td>December 29, 2017</td>\n",
       "    </tr>\n",
       "    <tr>\n",
       "      <th>4</th>\n",
       "      <td>Pope Francis Just Called Out Donald Trump Dur...</td>\n",
       "      <td>Pope Francis used his annual Christmas Day mes...</td>\n",
       "      <td>News</td>\n",
       "      <td>December 25, 2017</td>\n",
       "    </tr>\n",
       "  </tbody>\n",
       "</table>\n",
       "</div>"
      ],
      "text/plain": [
       "                                               title  \\\n",
       "0   Donald Trump Sends Out Embarrassing New Year’...   \n",
       "1   Drunk Bragging Trump Staffer Started Russian ...   \n",
       "2   Sheriff David Clarke Becomes An Internet Joke...   \n",
       "3   Trump Is So Obsessed He Even Has Obama’s Name...   \n",
       "4   Pope Francis Just Called Out Donald Trump Dur...   \n",
       "\n",
       "                                                text subject  \\\n",
       "0  Donald Trump just couldn t wish all Americans ...    News   \n",
       "1  House Intelligence Committee Chairman Devin Nu...    News   \n",
       "2  On Friday, it was revealed that former Milwauk...    News   \n",
       "3  On Christmas day, Donald Trump announced that ...    News   \n",
       "4  Pope Francis used his annual Christmas Day mes...    News   \n",
       "\n",
       "                date  \n",
       "0  December 31, 2017  \n",
       "1  December 31, 2017  \n",
       "2  December 30, 2017  \n",
       "3  December 29, 2017  \n",
       "4  December 25, 2017  "
      ]
     },
     "execution_count": 5,
     "metadata": {},
     "output_type": "execute_result"
    }
   ],
   "source": [
    "false.head()"
   ]
  },
  {
   "cell_type": "code",
   "execution_count": 65,
   "metadata": {},
   "outputs": [],
   "source": [
    "true['target'] = 1\n",
    "false['target'] = 0\n",
    "NUM_CLASSES = 2\n",
    "# true['text'][0]"
   ]
  },
  {
   "cell_type": "code",
   "execution_count": 7,
   "metadata": {},
   "outputs": [
    {
     "data": {
      "text/plain": [
       "(44898, 5)"
      ]
     },
     "execution_count": 7,
     "metadata": {},
     "output_type": "execute_result"
    }
   ],
   "source": [
    "data = pd.concat([true, false], axis=0)\n",
    "data.shape"
   ]
  },
  {
   "cell_type": "code",
   "execution_count": 8,
   "metadata": {},
   "outputs": [
    {
     "data": {
      "text/html": [
       "<div>\n",
       "<style scoped>\n",
       "    .dataframe tbody tr th:only-of-type {\n",
       "        vertical-align: middle;\n",
       "    }\n",
       "\n",
       "    .dataframe tbody tr th {\n",
       "        vertical-align: top;\n",
       "    }\n",
       "\n",
       "    .dataframe thead th {\n",
       "        text-align: right;\n",
       "    }\n",
       "</style>\n",
       "<table border=\"1\" class=\"dataframe\">\n",
       "  <thead>\n",
       "    <tr style=\"text-align: right;\">\n",
       "      <th></th>\n",
       "      <th>title</th>\n",
       "      <th>text</th>\n",
       "      <th>subject</th>\n",
       "      <th>date</th>\n",
       "      <th>target</th>\n",
       "    </tr>\n",
       "  </thead>\n",
       "  <tbody>\n",
       "    <tr>\n",
       "      <th>0</th>\n",
       "      <td>As U.S. budget fight looms, Republicans flip t...</td>\n",
       "      <td>WASHINGTON (Reuters) - The head of a conservat...</td>\n",
       "      <td>politicsNews</td>\n",
       "      <td>December 31, 2017</td>\n",
       "      <td>1</td>\n",
       "    </tr>\n",
       "    <tr>\n",
       "      <th>1</th>\n",
       "      <td>U.S. military to accept transgender recruits o...</td>\n",
       "      <td>WASHINGTON (Reuters) - Transgender people will...</td>\n",
       "      <td>politicsNews</td>\n",
       "      <td>December 29, 2017</td>\n",
       "      <td>1</td>\n",
       "    </tr>\n",
       "    <tr>\n",
       "      <th>2</th>\n",
       "      <td>Senior U.S. Republican senator: 'Let Mr. Muell...</td>\n",
       "      <td>WASHINGTON (Reuters) - The special counsel inv...</td>\n",
       "      <td>politicsNews</td>\n",
       "      <td>December 31, 2017</td>\n",
       "      <td>1</td>\n",
       "    </tr>\n",
       "    <tr>\n",
       "      <th>3</th>\n",
       "      <td>FBI Russia probe helped by Australian diplomat...</td>\n",
       "      <td>WASHINGTON (Reuters) - Trump campaign adviser ...</td>\n",
       "      <td>politicsNews</td>\n",
       "      <td>December 30, 2017</td>\n",
       "      <td>1</td>\n",
       "    </tr>\n",
       "    <tr>\n",
       "      <th>4</th>\n",
       "      <td>Trump wants Postal Service to charge 'much mor...</td>\n",
       "      <td>SEATTLE/WASHINGTON (Reuters) - President Donal...</td>\n",
       "      <td>politicsNews</td>\n",
       "      <td>December 29, 2017</td>\n",
       "      <td>1</td>\n",
       "    </tr>\n",
       "  </tbody>\n",
       "</table>\n",
       "</div>"
      ],
      "text/plain": [
       "                                               title  \\\n",
       "0  As U.S. budget fight looms, Republicans flip t...   \n",
       "1  U.S. military to accept transgender recruits o...   \n",
       "2  Senior U.S. Republican senator: 'Let Mr. Muell...   \n",
       "3  FBI Russia probe helped by Australian diplomat...   \n",
       "4  Trump wants Postal Service to charge 'much mor...   \n",
       "\n",
       "                                                text       subject  \\\n",
       "0  WASHINGTON (Reuters) - The head of a conservat...  politicsNews   \n",
       "1  WASHINGTON (Reuters) - Transgender people will...  politicsNews   \n",
       "2  WASHINGTON (Reuters) - The special counsel inv...  politicsNews   \n",
       "3  WASHINGTON (Reuters) - Trump campaign adviser ...  politicsNews   \n",
       "4  SEATTLE/WASHINGTON (Reuters) - President Donal...  politicsNews   \n",
       "\n",
       "                 date  target  \n",
       "0  December 31, 2017        1  \n",
       "1  December 29, 2017        1  \n",
       "2  December 31, 2017        1  \n",
       "3  December 30, 2017        1  \n",
       "4  December 29, 2017        1  "
      ]
     },
     "execution_count": 8,
     "metadata": {},
     "output_type": "execute_result"
    }
   ],
   "source": [
    "data.head()"
   ]
  },
  {
   "cell_type": "code",
   "execution_count": 9,
   "metadata": {},
   "outputs": [
    {
     "name": "stdout",
     "output_type": "stream",
     "text": [
      "<class 'pandas.core.frame.DataFrame'>\n",
      "Int64Index: 44898 entries, 0 to 23480\n",
      "Data columns (total 5 columns):\n",
      " #   Column   Non-Null Count  Dtype \n",
      "---  ------   --------------  ----- \n",
      " 0   title    44898 non-null  object\n",
      " 1   text     44898 non-null  object\n",
      " 2   subject  44898 non-null  object\n",
      " 3   date     44898 non-null  object\n",
      " 4   target   44898 non-null  int64 \n",
      "dtypes: int64(1), object(4)\n",
      "memory usage: 2.1+ MB\n"
     ]
    }
   ],
   "source": [
    "data.info()"
   ]
  },
  {
   "cell_type": "code",
   "execution_count": 28,
   "metadata": {},
   "outputs": [
    {
     "data": {
      "text/plain": [
       "politicsNews       11272\n",
       "worldnews          10145\n",
       "News                9050\n",
       "politics            6841\n",
       "left-news           4459\n",
       "Government News     1570\n",
       "US_News              783\n",
       "Middle-east          778\n",
       "Name: subject, dtype: int64"
      ]
     },
     "execution_count": 28,
     "metadata": {},
     "output_type": "execute_result"
    }
   ],
   "source": [
    "data.subject.value_counts()"
   ]
  },
  {
   "cell_type": "markdown",
   "metadata": {},
   "source": [
    "## Tokenizing"
   ]
  },
  {
   "cell_type": "markdown",
   "metadata": {},
   "source": [
    "To tokenize our text column we will split the sentence into a word vector. We will use word_tokenize from the nltk library to split the sentence into a list of words that we can then properly format contractions within sentences and remove stop words and punctuation. The cleaned data will be returned as a single string.\n",
    "\n",
    "We are only using our title and subject of our features. \n",
    "\n",
    "Once we have cleaned our input data, we will convert each sentence to a sequence of integers representing the string using Keras preprocessing text tokenizer. We will define a max number of words to use in each sequence so our model can have equal length inputs. "
   ]
  },
  {
   "cell_type": "code",
   "execution_count": 24,
   "metadata": {},
   "outputs": [],
   "source": [
    "stop_words = set(stopwords.words('english'))\n",
    "def clean(txt):\n",
    "    txt  = \"\".join([char for char in txt if char not in string.punctuation])\n",
    "    txt = re.sub('[0-9]+', '', txt)\n",
    "    words = word_tokenize(txt)\n",
    "    expanded_words = [contractions.fix(word) for word in words]\n",
    "    words = [w for w in expanded_words if not w in stop_words]\n",
    "    words = [word for word in words if word.isalpha()]\n",
    "    cleaned_text = ' '.join(words)\n",
    "    return cleaned_text.strip()"
   ]
  },
  {
   "cell_type": "code",
   "execution_count": 25,
   "metadata": {},
   "outputs": [],
   "source": [
    "data['cleaned'] = data['title'].apply(lambda txt: clean(txt))"
   ]
  },
  {
   "cell_type": "code",
   "execution_count": 23,
   "metadata": {},
   "outputs": [
    {
     "data": {
      "text/plain": [
       "0        As US budget fight looms Republicans flip fisc...\n",
       "1        US military accept transgender recruits Monday...\n",
       "2          Senior US Republican senator Let Mr Mueller job\n",
       "3        FBI Russia probe helped Australian diplomat ti...\n",
       "4        Trump wants Postal Service charge much Amazon ...\n",
       "                               ...                        \n",
       "23476    McPain John McCain Furious That Iran Treated U...\n",
       "23477    JUSTICE Yahoo Settles Email Privacy Classactio...\n",
       "23478    Sunnistan US Allied Safe Zone Plan Take Territ...\n",
       "23479    How Blow Million Al Jazeera America Finally Ca...\n",
       "23480    US Navy Sailors Held Iranian Military Signs Ne...\n",
       "Name: cleaned, Length: 44898, dtype: object"
      ]
     },
     "execution_count": 23,
     "metadata": {},
     "output_type": "execute_result"
    }
   ],
   "source": [
    "data['cleaned']"
   ]
  },
  {
   "cell_type": "markdown",
   "metadata": {},
   "source": [
    "## Model Evaluation"
   ]
  },
  {
   "cell_type": "markdown",
   "metadata": {},
   "source": [
    "We will be judging the performance of our model by measuring accuracy and recall (minimizing false positives). We are using recall because it is an important metric that tells us what amount ratio of fake news articles are being properly classified as fake. We want to minimize exposure of fake news cases as much as possible. Accuracy is another important metric to gauge the performance of our model because it tells us the overall performance on both fake and true news articeles."
   ]
  },
  {
   "cell_type": "markdown",
   "metadata": {},
   "source": [
    "## Test Train Split\n",
    "\n",
    "We will be splitting our data using an 80/20 shuffle split. "
   ]
  },
  {
   "cell_type": "code",
   "execution_count": 13,
   "metadata": {},
   "outputs": [],
   "source": [
    "xtrain, xtest, ytrain, ytest = train_test_split(data['cleaned'], data['target'], shuffle=True, test_size=0.2)"
   ]
  },
  {
   "cell_type": "code",
   "execution_count": 118,
   "metadata": {},
   "outputs": [
    {
     "data": {
      "text/plain": [
       "((35918,), (8980,), (35918,), (8980,))"
      ]
     },
     "execution_count": 118,
     "metadata": {},
     "output_type": "execute_result"
    }
   ],
   "source": [
    "xtrain.shape, xtest.shape, ytrain.shape, ytest.shape"
   ]
  },
  {
   "cell_type": "code",
   "execution_count": 36,
   "metadata": {},
   "outputs": [
    {
     "name": "stdout",
     "output_type": "stream",
     "text": [
      "Max number of words in a text in training data: 227\n",
      "Max number of words in a text in training data: 227\n"
     ]
    }
   ],
   "source": [
    "max_len = xtrain.apply(lambda x: len(x)).max()\n",
    "print(f'Max number of words in a text in training data: {max_len}')\n",
    "max_len = xtest.apply(lambda x: len(x)).max()\n",
    "print(f'Max number of words in a text in training data: {max_len}')"
   ]
  },
  {
   "cell_type": "markdown",
   "metadata": {},
   "source": [
    "### When we use recurrent networks, the most common form of data is text. In order to represent a sentence, we will need to make a few decisions.\n",
    "\n",
    "Will our network fundamentally represent characters? Words? What are the building blocks for our structure?\n",
    "    It will represent words\n",
    "\n",
    "What is the maximum sequence length?\n",
    "    227\n",
    "\n",
    "What is my maximum vocabulary size?\n",
    "    maxwords = 500\n",
    "\n",
    "What style of RNN should I use?\n",
    "    LSTM and GRU\n",
    "\n",
    "Can I incorporate an Embedding? What size?\n",
    "    Using the glove embedding. \n",
    "\n",
    "What is my problem type? Many to one? Many to many? Sequence-to-Sequence?\n",
    "    Many to one. Binary classification as true or false depending on the text sequence."
   ]
  },
  {
   "cell_type": "markdown",
   "metadata": {},
   "source": [
    "## Preprocessing Text to Integer Sequence"
   ]
  },
  {
   "cell_type": "markdown",
   "metadata": {},
   "source": [
    "Keras text preprocessing libraries text and sequence allow us to easily convert our cleaned sentences into text sequences with padding for our model. "
   ]
  },
  {
   "cell_type": "code",
   "execution_count": 79,
   "metadata": {},
   "outputs": [
    {
     "name": "stdout",
     "output_type": "stream",
     "text": [
      "Found 18716 unique tokens. Distilled to 18716 top words.\n"
     ]
    }
   ],
   "source": [
    "NUM_TOP_WORDS = None # use entire vocabulary!\n",
    "MAX_ART_LEN = 300\n",
    "\n",
    "tokenizer = text.Tokenizer(num_words=NUM_TOP_WORDS)\n",
    "tokenizer.fit_on_texts(xtrain)\n",
    "\n",
    "xtrain_tok = tokenizer.texts_to_sequences(xtrain)\n",
    "xtest_tok = tokenizer.texts_to_sequences(xtest)\n",
    "\n",
    "word_index = tokenizer.word_index\n",
    "NUM_TOP_WORDS = len(word_index) if NUM_TOP_WORDS==None else NUM_TOP_WORDS\n",
    "top_words = min((len(word_index),NUM_TOP_WORDS))\n",
    "print('Found %s unique tokens. Distilled to %d top words.' % (len(word_index),top_words))\\\n",
    "\n",
    "xtrain_pad = sequence.pad_sequences(xtrain_tok, maxlen=MAX_ART_LEN)\n",
    "xtest_pad = sequence.pad_sequences(xtest_tok, maxlen=MAX_ART_LEN)"
   ]
  },
  {
   "cell_type": "code",
   "execution_count": 80,
   "metadata": {},
   "outputs": [
    {
     "name": "stdout",
     "output_type": "stream",
     "text": [
      "text example: 0    Donald Trump Sends Out Embarrassing New Year E...\n",
      "0    As budget fight looms Republicans flip fiscal ...\n",
      "Name: cleaned, dtype: object\n",
      "sequence of indices(before padding): [3051, 5985, 1808, 4456, 450, 31, 484, 3771, 131, 25, 67, 581, 132, 188]\n",
      "sequence of indices(after padding): [   0    0    0    0    0    0    0    0    0    0    0    0    0    0\n",
      "    0    0    0    0    0    0    0    0    0    0    0    0    0    0\n",
      "    0    0    0    0    0    0    0    0    0    0    0    0    0    0\n",
      "    0    0    0    0    0    0    0    0    0    0    0    0    0    0\n",
      "    0    0    0    0    0    0    0    0    0    0    0    0    0    0\n",
      "    0    0    0    0    0    0    0    0    0    0    0    0    0    0\n",
      "    0    0    0    0    0    0    0    0    0    0    0    0    0    0\n",
      "    0    0    0    0    0    0    0    0    0    0    0    0    0    0\n",
      "    0    0    0    0    0    0    0    0    0    0    0    0    0    0\n",
      "    0    0    0    0    0    0    0    0    0    0    0    0    0    0\n",
      "    0    0    0    0    0    0    0    0    0    0    0    0    0    0\n",
      "    0    0    0    0    0    0    0    0    0    0    0    0    0    0\n",
      "    0    0    0    0    0    0    0    0    0    0    0    0    0    0\n",
      "    0    0    0    0    0    0    0    0    0    0    0    0    0    0\n",
      "    0    0    0    0    0    0    0    0    0    0    0    0    0    0\n",
      "    0    0    0    0    0    0    0    0    0    0    0    0    0    0\n",
      "    0    0    0    0    0    0    0    0    0    0    0    0    0    0\n",
      "    0    0    0    0    0    0    0    0    0    0    0    0    0    0\n",
      "    0    0    0    0    0    0    0    0    0    0    0    0    0    0\n",
      "    0    0    0    0    0    0    0    0    0    0    0    0    0    0\n",
      "    0    0    0    0    0    0 3051 5985 1808 4456  450   31  484 3771\n",
      "  131   25   67  581  132  188]\n"
     ]
    }
   ],
   "source": [
    "print('text example:', xtrain[0])\n",
    "print('sequence of indices(before padding):', xtrain_tok[0])\n",
    "print('sequence of indices(after padding):', xtrain_pad[0])"
   ]
  },
  {
   "cell_type": "code",
   "execution_count": 81,
   "metadata": {},
   "outputs": [
    {
     "name": "stdout",
     "output_type": "stream",
     "text": [
      "7699     0\n",
      "4323     1\n",
      "20150    0\n",
      "13679    1\n",
      "13780    0\n",
      "        ..\n",
      "4188     0\n",
      "12195    1\n",
      "4229     1\n",
      "7908     0\n",
      "20897    1\n",
      "Name: target, Length: 35918, dtype: int64\n"
     ]
    }
   ],
   "source": [
    "## convert y columns to ohe\n",
    "print(ytrain)\n",
    "ytrain_ohe = keras.utils.to_categorical(ytrain)\n",
    "ytest_ohe = keras.utils.to_categorical(ytest)"
   ]
  },
  {
   "cell_type": "markdown",
   "metadata": {},
   "source": [
    "## Glove Embedding\n",
    "\n",
    "We will be using the glove embedding on our model rather than using embeddings from scratch. This should help our performance."
   ]
  },
  {
   "cell_type": "code",
   "execution_count": 82,
   "metadata": {},
   "outputs": [
    {
     "name": "stdout",
     "output_type": "stream",
     "text": [
      "Found 400000 word vectors.\n"
     ]
    }
   ],
   "source": [
    "EMBED_SIZE = 100\n",
    "# the embed size should match the file you load glove from\n",
    "embeddings_index = {}\n",
    "f = open('../../glove/glove.6B.100d.txt')\n",
    "# save key/array pairs of the embeddings\n",
    "#  the key of the dictionary is the word, the array is the embedding\n",
    "for line in f:\n",
    "    values = line.split()\n",
    "    word = values[0]\n",
    "    coefs = np.asarray(values[1:], dtype='float32')\n",
    "    embeddings_index[word] = coefs\n",
    "f.close()\n",
    "\n",
    "print('Found %s word vectors.' % len(embeddings_index))"
   ]
  },
  {
   "cell_type": "code",
   "execution_count": 83,
   "metadata": {},
   "outputs": [
    {
     "name": "stdout",
     "output_type": "stream",
     "text": [
      "Embedding Shape: (18717, 100) \n",
      " Total words found: 18153 \n",
      " Percentage: 96.98669658599134\n"
     ]
    }
   ],
   "source": [
    "# now fill in the matrix, using the ordering from the\n",
    "#  keras word tokenizer from before\n",
    "found_words = 0\n",
    "embedding_matrix = np.zeros((len(word_index) + 1, EMBED_SIZE))\n",
    "for word, i in word_index.items():\n",
    "    embedding_vector = embeddings_index.get(word)\n",
    "    if embedding_vector is not None:\n",
    "        # words not found in embedding index will be all-zeros.\n",
    "        embedding_matrix[i] = embedding_vector\n",
    "        found_words = found_words+1\n",
    "\n",
    "print(\"Embedding Shape:\",embedding_matrix.shape, \"\\n\",\n",
    "      \"Total words found:\",found_words, \"\\n\",\n",
    "      \"Percentage:\",100*found_words/embedding_matrix.shape[0])"
   ]
  },
  {
   "cell_type": "code",
   "execution_count": 84,
   "metadata": {},
   "outputs": [],
   "source": [
    "# save this embedding now\n",
    "embedding_layer = Embedding(len(word_index) + 1,\n",
    "                            EMBED_SIZE,\n",
    "                            weights=[embedding_matrix],\n",
    "                            input_length=MAX_ART_LEN,\n",
    "                            trainable=False)"
   ]
  },
  {
   "cell_type": "markdown",
   "metadata": {},
   "source": [
    "## LSTM and GRU\n",
    "\n",
    "We are investigating the LSTM and GRU recurrent neural network models. We will build each model using the glove embedding layer and create 2 of each kind of model with varying layers and hyperparameters. First we will investigate LSTM, then GRU.\n",
    "\n",
    "Activiations Relu and Tanh did not work for some reason here."
   ]
  },
  {
   "cell_type": "code",
   "execution_count": 137,
   "metadata": {},
   "outputs": [
    {
     "name": "stdout",
     "output_type": "stream",
     "text": [
      "Model: \"sequential_21\"\n",
      "_________________________________________________________________\n",
      "Layer (type)                 Output Shape              Param #   \n",
      "=================================================================\n",
      "embedding_1 (Embedding)      (None, 300, 100)          1871700   \n",
      "_________________________________________________________________\n",
      "lstm_13 (LSTM)               (None, 100)               80400     \n",
      "_________________________________________________________________\n",
      "dense_31 (Dense)             (None, 2)                 202       \n",
      "=================================================================\n",
      "Total params: 1,952,302\n",
      "Trainable params: 80,602\n",
      "Non-trainable params: 1,871,700\n",
      "_________________________________________________________________\n",
      "None\n"
     ]
    }
   ],
   "source": [
    "# LSTM number 1\n",
    "\n",
    "rnn1 = Sequential()\n",
    "rnn1.add(embedding_layer)\n",
    "rnn1.add(LSTM(100,dropout=0.2, recurrent_dropout=0.2))\n",
    "rnn1.add(Dense(NUM_CLASSES, activation='sigmoid'))\n",
    "rnn1.compile(loss='binary_crossentropy', \n",
    "              optimizer='rmsprop', \n",
    "              metrics=['accuracy', keras.metrics.Recall()])\n",
    "print(rnn1.summary())\n"
   ]
  },
  {
   "cell_type": "code",
   "execution_count": 138,
   "metadata": {},
   "outputs": [
    {
     "name": "stdout",
     "output_type": "stream",
     "text": [
      "Epoch 1/5\n",
      "562/562 [==============================] - 327s 582ms/step - loss: 0.1179 - accuracy: 0.9546 - recall_18: 0.9546 - val_loss: 0.0731 - val_accuracy: 0.9748 - val_recall_18: 0.9742\n",
      "Epoch 2/5\n",
      "562/562 [==============================] - 327s 581ms/step - loss: 0.0748 - accuracy: 0.9727 - recall_18: 0.9727 - val_loss: 0.0634 - val_accuracy: 0.9765 - val_recall_18: 0.9764\n",
      "Epoch 3/5\n",
      "562/562 [==============================] - 326s 580ms/step - loss: 0.0581 - accuracy: 0.9785 - recall_18: 0.9787 - val_loss: 0.0775 - val_accuracy: 0.9716 - val_recall_18: 0.9713\n",
      "Epoch 4/5\n",
      "562/562 [==============================] - 326s 580ms/step - loss: 0.0476 - accuracy: 0.9836 - recall_18: 0.9834 - val_loss: 0.0465 - val_accuracy: 0.9834 - val_recall_18: 0.9836\n",
      "Epoch 5/5\n",
      "562/562 [==============================] - 328s 584ms/step - loss: 0.0404 - accuracy: 0.9861 - recall_18: 0.9861 - val_loss: 0.0445 - val_accuracy: 0.9845 - val_recall_18: 0.9844\n"
     ]
    }
   ],
   "source": [
    "LSTM1 = []\n",
    "tmp = rnn1.fit(xtrain_pad, ytrain_ohe, validation_data=(xtest_pad, ytest_ohe), epochs=5, batch_size=64)\n",
    "LSTM1.append( tmp )"
   ]
  },
  {
   "cell_type": "code",
   "execution_count": 139,
   "metadata": {},
   "outputs": [
    {
     "name": "stdout",
     "output_type": "stream",
     "text": [
      "Epoch 1/5\n",
      "562/562 [==============================] - 274s 488ms/step - loss: 0.0351 - accuracy: 0.9880 - recall_18: 0.9879 - val_loss: 0.0445 - val_accuracy: 0.9850 - val_recall_18: 0.9853\n",
      "Epoch 2/5\n",
      "562/562 [==============================] - 196s 350ms/step - loss: 0.0300 - accuracy: 0.9895 - recall_18: 0.9894 - val_loss: 0.0678 - val_accuracy: 0.9774 - val_recall_18: 0.9780\n",
      "Epoch 3/5\n",
      "562/562 [==============================] - 196s 350ms/step - loss: 0.0262 - accuracy: 0.9911 - recall_18: 0.9912 - val_loss: 0.0404 - val_accuracy: 0.9880 - val_recall_18: 0.9880\n",
      "Epoch 4/5\n",
      "562/562 [==============================] - 202s 359ms/step - loss: 0.0223 - accuracy: 0.9919 - recall_18: 0.9919 - val_loss: 0.0365 - val_accuracy: 0.9886 - val_recall_18: 0.9884\n",
      "Epoch 5/5\n",
      "562/562 [==============================] - 208s 370ms/step - loss: 0.0183 - accuracy: 0.9935 - recall_18: 0.9935 - val_loss: 0.0484 - val_accuracy: 0.9869 - val_recall_18: 0.9870\n"
     ]
    }
   ],
   "source": [
    "tmp = rnn1.fit(xtrain_pad, ytrain_ohe, validation_data=(xtest_pad, ytest_ohe), epochs=5, batch_size=64)\n",
    "LSTM1.append(tmp)"
   ]
  },
  {
   "cell_type": "code",
   "execution_count": 140,
   "metadata": {},
   "outputs": [
    {
     "name": "stdout",
     "output_type": "stream",
     "text": [
      "Epoch 1/5\n",
      "562/562 [==============================] - 209s 373ms/step - loss: 0.0170 - accuracy: 0.9941 - recall_18: 0.9941 - val_loss: 0.0505 - val_accuracy: 0.9854 - val_recall_18: 0.9856\n",
      "Epoch 2/5\n",
      "562/562 [==============================] - 201s 357ms/step - loss: 0.0145 - accuracy: 0.9948 - recall_18: 0.9948 - val_loss: 0.0402 - val_accuracy: 0.9898 - val_recall_18: 0.9895\n",
      "Epoch 3/5\n",
      "562/562 [==============================] - 197s 351ms/step - loss: 0.0129 - accuracy: 0.9952 - recall_18: 0.9952 - val_loss: 0.0381 - val_accuracy: 0.9900 - val_recall_18: 0.9898\n",
      "Epoch 4/5\n",
      "562/562 [==============================] - 197s 350ms/step - loss: 0.0113 - accuracy: 0.9960 - recall_18: 0.9961 - val_loss: 0.0560 - val_accuracy: 0.9878 - val_recall_18: 0.9879\n",
      "Epoch 5/5\n",
      "562/562 [==============================] - 197s 350ms/step - loss: 0.0098 - accuracy: 0.9965 - recall_18: 0.9965 - val_loss: 0.0458 - val_accuracy: 0.9895 - val_recall_18: 0.9896\n"
     ]
    }
   ],
   "source": [
    "tmp = rnn1.fit(xtrain_pad, ytrain_ohe, validation_data=(xtest_pad, ytest_ohe), epochs=5, batch_size=64)\n",
    "LSTM1.append(tmp)"
   ]
  },
  {
   "cell_type": "code",
   "execution_count": 141,
   "metadata": {},
   "outputs": [
    {
     "name": "stdout",
     "output_type": "stream",
     "text": [
      "Epoch 1/5\n",
      "562/562 [==============================] - 197s 350ms/step - loss: 0.0087 - accuracy: 0.9969 - recall_18: 0.9968 - val_loss: 0.0500 - val_accuracy: 0.9884 - val_recall_18: 0.9882\n",
      "Epoch 2/5\n",
      "562/562 [==============================] - 197s 351ms/step - loss: 0.0081 - accuracy: 0.9972 - recall_18: 0.9970 - val_loss: 0.0454 - val_accuracy: 0.9895 - val_recall_18: 0.9896\n",
      "Epoch 3/5\n",
      "562/562 [==============================] - 198s 353ms/step - loss: 0.0069 - accuracy: 0.9977 - recall_18: 0.9978 - val_loss: 0.0515 - val_accuracy: 0.9908 - val_recall_18: 0.9908\n",
      "Epoch 4/5\n",
      "562/562 [==============================] - 196s 349ms/step - loss: 0.0056 - accuracy: 0.9983 - recall_18: 0.9983 - val_loss: 0.0500 - val_accuracy: 0.9904 - val_recall_18: 0.9904\n",
      "Epoch 5/5\n",
      "562/562 [==============================] - 196s 349ms/step - loss: 0.0066 - accuracy: 0.9979 - recall_18: 0.9979 - val_loss: 0.0507 - val_accuracy: 0.9900 - val_recall_18: 0.9898\n"
     ]
    }
   ],
   "source": [
    "tmp = rnn1.fit(xtrain_pad, ytrain_ohe, validation_data=(xtest_pad, ytest_ohe), epochs=5, batch_size=64)\n",
    "LSTM1.append(tmp)"
   ]
  },
  {
   "cell_type": "code",
   "execution_count": null,
   "metadata": {},
   "outputs": [],
   "source": [
    "rnn1.save('LSTM1')"
   ]
  },
  {
   "cell_type": "code",
   "execution_count": 222,
   "metadata": {},
   "outputs": [
    {
     "data": {
      "image/png": "[encoded data removed]",
      "text/plain": [
       "<Figure size 1080x360 with 3 Axes>"
      ]
     },
     "metadata": {
      "needs_background": "light"
     },
     "output_type": "display_data"
    }
   ],
   "source": [
    "plot_model(LSTM1, '18')"
   ]
  },
  {
   "cell_type": "code",
   "execution_count": 142,
   "metadata": {},
   "outputs": [
    {
     "name": "stdout",
     "output_type": "stream",
     "text": [
      "Model: \"sequential_22\"\n",
      "_________________________________________________________________\n",
      "Layer (type)                 Output Shape              Param #   \n",
      "=================================================================\n",
      "embedding_1 (Embedding)      (None, 300, 100)          1871700   \n",
      "_________________________________________________________________\n",
      "gru_8 (GRU)                  (None, 100)               60600     \n",
      "_________________________________________________________________\n",
      "dense_32 (Dense)             (None, 2)                 202       \n",
      "=================================================================\n",
      "Total params: 1,932,502\n",
      "Trainable params: 60,802\n",
      "Non-trainable params: 1,871,700\n",
      "_________________________________________________________________\n",
      "None\n"
     ]
    }
   ],
   "source": [
    "## GRU number 1\n",
    "\n",
    "rnn2 = Sequential()\n",
    "rnn2.add(embedding_layer)\n",
    "rnn2.add(GRU(100,dropout=0.2, recurrent_dropout=0.2))\n",
    "rnn2.add(Dense(NUM_CLASSES, activation='sigmoid'))\n",
    "rnn2.compile(loss='binary_crossentropy', \n",
    "              optimizer='rmsprop', \n",
    "              metrics=['accuracy', keras.metrics.Recall()])\n",
    "print(rnn2.summary())"
   ]
  },
  {
   "cell_type": "code",
   "execution_count": 143,
   "metadata": {},
   "outputs": [
    {
     "name": "stdout",
     "output_type": "stream",
     "text": [
      "Epoch 1/5\n",
      "562/562 [==============================] - 180s 320ms/step - loss: 0.1227 - accuracy: 0.9531 - recall_19: 0.9533 - val_loss: 0.0812 - val_accuracy: 0.9702 - val_recall_19: 0.9703\n",
      "Epoch 2/5\n",
      "562/562 [==============================] - 172s 307ms/step - loss: 0.0722 - accuracy: 0.9739 - recall_19: 0.9741 - val_loss: 0.0661 - val_accuracy: 0.9754 - val_recall_19: 0.9753\n",
      "Epoch 3/5\n",
      "562/562 [==============================] - 174s 309ms/step - loss: 0.0567 - accuracy: 0.9797 - recall_19: 0.9795 - val_loss: 0.0490 - val_accuracy: 0.9844 - val_recall_19: 0.9840\n",
      "Epoch 4/5\n",
      "562/562 [==============================] - 173s 309ms/step - loss: 0.0470 - accuracy: 0.9837 - recall_19: 0.9838 - val_loss: 0.0458 - val_accuracy: 0.9853 - val_recall_19: 0.9851\n",
      "Epoch 5/5\n",
      "562/562 [==============================] - 173s 308ms/step - loss: 0.0397 - accuracy: 0.9860 - recall_19: 0.9860 - val_loss: 0.0420 - val_accuracy: 0.9866 - val_recall_19: 0.9869\n"
     ]
    }
   ],
   "source": [
    "GRU1 = []\n",
    "tmp = rnn2.fit(xtrain_pad, ytrain_ohe, validation_data=(xtest_pad, ytest_ohe), epochs=5, batch_size=64)\n",
    "GRU1.append( tmp )"
   ]
  },
  {
   "cell_type": "code",
   "execution_count": 144,
   "metadata": {},
   "outputs": [
    {
     "name": "stdout",
     "output_type": "stream",
     "text": [
      "Epoch 1/5\n",
      "562/562 [==============================] - 173s 308ms/step - loss: 0.0340 - accuracy: 0.9881 - recall_19: 0.9880 - val_loss: 0.0382 - val_accuracy: 0.9884 - val_recall_19: 0.9884\n",
      "Epoch 2/5\n",
      "562/562 [==============================] - 173s 308ms/step - loss: 0.0292 - accuracy: 0.9901 - recall_19: 0.9902 - val_loss: 0.0398 - val_accuracy: 0.9889 - val_recall_19: 0.9891\n",
      "Epoch 3/5\n",
      "562/562 [==============================] - 173s 308ms/step - loss: 0.0242 - accuracy: 0.9915 - recall_19: 0.9915 - val_loss: 0.0372 - val_accuracy: 0.9902 - val_recall_19: 0.9902\n",
      "Epoch 4/5\n",
      "562/562 [==============================] - 173s 308ms/step - loss: 0.0232 - accuracy: 0.9922 - recall_19: 0.9921 - val_loss: 0.0372 - val_accuracy: 0.9900 - val_recall_19: 0.9900\n",
      "Epoch 5/5\n",
      "562/562 [==============================] - 173s 308ms/step - loss: 0.0186 - accuracy: 0.9938 - recall_19: 0.9937 - val_loss: 0.0420 - val_accuracy: 0.9893 - val_recall_19: 0.9895\n"
     ]
    }
   ],
   "source": [
    "tmp = rnn2.fit(xtrain_pad, ytrain_ohe, validation_data=(xtest_pad, ytest_ohe), epochs=5, batch_size=64)\n",
    "GRU1.append(tmp)"
   ]
  },
  {
   "cell_type": "code",
   "execution_count": 145,
   "metadata": {},
   "outputs": [
    {
     "name": "stdout",
     "output_type": "stream",
     "text": [
      "Epoch 1/5\n",
      "562/562 [==============================] - 173s 308ms/step - loss: 0.0157 - accuracy: 0.9945 - recall_19: 0.9945 - val_loss: 0.0396 - val_accuracy: 0.9896 - val_recall_19: 0.9896\n",
      "Epoch 2/5\n",
      "562/562 [==============================] - 172s 307ms/step - loss: 0.0147 - accuracy: 0.9949 - recall_19: 0.9952 - val_loss: 0.0417 - val_accuracy: 0.9899 - val_recall_19: 0.9899\n",
      "Epoch 3/5\n",
      "562/562 [==============================] - 172s 307ms/step - loss: 0.0126 - accuracy: 0.9952 - recall_19: 0.9951 - val_loss: 0.0390 - val_accuracy: 0.9922 - val_recall_19: 0.9924\n",
      "Epoch 4/5\n",
      "562/562 [==============================] - 171s 305ms/step - loss: 0.0115 - accuracy: 0.9961 - recall_19: 0.9960 - val_loss: 0.0371 - val_accuracy: 0.9916 - val_recall_19: 0.9914\n",
      "Epoch 5/5\n",
      "562/562 [==============================] - 172s 305ms/step - loss: 0.0102 - accuracy: 0.9964 - recall_19: 0.9965 - val_loss: 0.0403 - val_accuracy: 0.9916 - val_recall_19: 0.9914\n"
     ]
    }
   ],
   "source": [
    "tmp = rnn2.fit(xtrain_pad, ytrain_ohe, validation_data=(xtest_pad, ytest_ohe), epochs=5, batch_size=64)\n",
    "GRU1.append(tmp)"
   ]
  },
  {
   "cell_type": "code",
   "execution_count": 146,
   "metadata": {},
   "outputs": [
    {
     "name": "stdout",
     "output_type": "stream",
     "text": [
      "Epoch 1/5\n",
      "562/562 [==============================] - 174s 309ms/step - loss: 0.0101 - accuracy: 0.9964 - recall_19: 0.9964 - val_loss: 0.0433 - val_accuracy: 0.9902 - val_recall_19: 0.9903\n",
      "Epoch 2/5\n",
      "562/562 [==============================] - 173s 307ms/step - loss: 0.0089 - accuracy: 0.9970 - recall_19: 0.9970 - val_loss: 0.0415 - val_accuracy: 0.9923 - val_recall_19: 0.9922\n",
      "Epoch 3/5\n",
      "562/562 [==============================] - 172s 306ms/step - loss: 0.0081 - accuracy: 0.9974 - recall_19: 0.9974 - val_loss: 0.0392 - val_accuracy: 0.9911 - val_recall_19: 0.9910\n",
      "Epoch 4/5\n",
      "562/562 [==============================] - 172s 306ms/step - loss: 0.0072 - accuracy: 0.9974 - recall_19: 0.9974 - val_loss: 0.0430 - val_accuracy: 0.9916 - val_recall_19: 0.9918\n",
      "Epoch 5/5\n",
      "562/562 [==============================] - 172s 305ms/step - loss: 0.0059 - accuracy: 0.9977 - recall_19: 0.9977 - val_loss: 0.0438 - val_accuracy: 0.9921 - val_recall_19: 0.9922\n"
     ]
    }
   ],
   "source": [
    "tmp = rnn2.fit(xtrain_pad, ytrain_ohe, validation_data=(xtest_pad, ytest_ohe), epochs=5, batch_size=64)\n",
    "GRU1.append(tmp)"
   ]
  },
  {
   "cell_type": "code",
   "execution_count": null,
   "metadata": {},
   "outputs": [],
   "source": [
    "rnn2.save('GRU1')"
   ]
  },
  {
   "cell_type": "code",
   "execution_count": 223,
   "metadata": {},
   "outputs": [
    {
     "data": {
      "image/png": "[encoded data removed]",
      "text/plain": [
       "<Figure size 1080x360 with 3 Axes>"
      ]
     },
     "metadata": {
      "needs_background": "light"
     },
     "output_type": "display_data"
    }
   ],
   "source": [
    "plot_model(GRU1, '19')"
   ]
  },
  {
   "cell_type": "code",
   "execution_count": 123,
   "metadata": {},
   "outputs": [
    {
     "name": "stdout",
     "output_type": "stream",
     "text": [
      "Model: \"sequential_18\"\n",
      "_________________________________________________________________\n",
      "Layer (type)                 Output Shape              Param #   \n",
      "=================================================================\n",
      "embedding_1 (Embedding)      (None, 300, 100)          1871700   \n",
      "_________________________________________________________________\n",
      "lstm_12 (LSTM)               (None, 100)               80400     \n",
      "_________________________________________________________________\n",
      "dense_25 (Dense)             (None, 50)                5050      \n",
      "_________________________________________________________________\n",
      "dense_26 (Dense)             (None, 2)                 102       \n",
      "=================================================================\n",
      "Total params: 1,957,252\n",
      "Trainable params: 85,552\n",
      "Non-trainable params: 1,871,700\n",
      "_________________________________________________________________\n",
      "None\n"
     ]
    }
   ],
   "source": [
    "## LSTM Number 2\n",
    "\n",
    "rnn3 = Sequential()\n",
    "rnn3.add(embedding_layer)\n",
    "rnn3.add(LSTM(100,dropout=0.3, recurrent_dropout=0.3))\n",
    "rnn3.add(Dense(50, activation='softmax',kernel_initializer='glorot_uniform'))\n",
    "rnn3.add(Dense(NUM_CLASSES, activation='softmax',kernel_initializer='glorot_uniform'))\n",
    "rnn3.compile(loss='binary_crossentropy', \n",
    "              optimizer='adam', \n",
    "              metrics=['accuracy', keras.metrics.Recall()])\n",
    "print(rnn3.summary())\n"
   ]
  },
  {
   "cell_type": "code",
   "execution_count": 124,
   "metadata": {},
   "outputs": [
    {
     "name": "stdout",
     "output_type": "stream",
     "text": [
      "Epoch 1/5\n",
      "562/562 [==============================] - 212s 377ms/step - loss: 0.4210 - accuracy: 0.8960 - recall_15: 0.8960 - val_loss: 0.2961 - val_accuracy: 0.9540 - val_recall_15: 0.9540\n",
      "Epoch 2/5\n",
      "562/562 [==============================] - 216s 385ms/step - loss: 0.2307 - accuracy: 0.9591 - recall_15: 0.9591 - val_loss: 0.1870 - val_accuracy: 0.9625 - val_recall_15: 0.9625\n",
      "Epoch 3/5\n",
      "562/562 [==============================] - 220s 391ms/step - loss: 0.1610 - accuracy: 0.9658 - recall_15: 0.9658 - val_loss: 0.1337 - val_accuracy: 0.9706 - val_recall_15: 0.9706\n",
      "Epoch 4/5\n",
      "562/562 [==============================] - 221s 392ms/step - loss: 0.1192 - accuracy: 0.9723 - recall_15: 0.9723 - val_loss: 0.1008 - val_accuracy: 0.9763 - val_recall_15: 0.9763\n",
      "Epoch 5/5\n",
      "562/562 [==============================] - 231s 412ms/step - loss: 0.0940 - accuracy: 0.9771 - recall_15: 0.9771 - val_loss: 0.0811 - val_accuracy: 0.9791 - val_recall_15: 0.9791\n"
     ]
    }
   ],
   "source": [
    "LSTM2 = []\n",
    "tmp = rnn3.fit(xtrain_pad, ytrain_ohe, validation_data=(xtest_pad, ytest_ohe), epochs=5, batch_size=64)\n",
    "LSTM2.append( tmp )"
   ]
  },
  {
   "cell_type": "code",
   "execution_count": 125,
   "metadata": {},
   "outputs": [
    {
     "name": "stdout",
     "output_type": "stream",
     "text": [
      "Epoch 1/5\n",
      "562/562 [==============================] - 226s 403ms/step - loss: 0.0769 - accuracy: 0.9801 - recall_15: 0.9801 - val_loss: 0.0691 - val_accuracy: 0.9820 - val_recall_15: 0.9820\n",
      "Epoch 2/5\n",
      "562/562 [==============================] - 217s 386ms/step - loss: 0.0639 - accuracy: 0.9830 - recall_15: 0.9830 - val_loss: 0.0653 - val_accuracy: 0.9814 - val_recall_15: 0.9814\n",
      "Epoch 3/5\n",
      "562/562 [==============================] - 214s 382ms/step - loss: 0.0544 - accuracy: 0.9856 - recall_15: 0.9856 - val_loss: 0.0542 - val_accuracy: 0.9852 - val_recall_15: 0.9852\n",
      "Epoch 4/5\n",
      "562/562 [==============================] - 207s 368ms/step - loss: 0.0470 - accuracy: 0.9874 - recall_15: 0.9874 - val_loss: 0.0531 - val_accuracy: 0.9854 - val_recall_15: 0.9854\n",
      "Epoch 5/5\n",
      "562/562 [==============================] - 214s 380ms/step - loss: 0.0409 - accuracy: 0.9891 - recall_15: 0.9891 - val_loss: 0.0453 - val_accuracy: 0.9879 - val_recall_15: 0.9879\n"
     ]
    }
   ],
   "source": [
    "tmp = rnn3.fit(xtrain_pad, ytrain_ohe, validation_data=(xtest_pad, ytest_ohe), epochs=5, batch_size=64)\n",
    "LSTM2.append( tmp )"
   ]
  },
  {
   "cell_type": "code",
   "execution_count": 126,
   "metadata": {},
   "outputs": [
    {
     "name": "stdout",
     "output_type": "stream",
     "text": [
      "Epoch 1/5\n",
      "562/562 [==============================] - 212s 377ms/step - loss: 0.0372 - accuracy: 0.9892 - recall_15: 0.9892 - val_loss: 0.0419 - val_accuracy: 0.9884 - val_recall_15: 0.9884\n",
      "Epoch 2/5\n",
      "562/562 [==============================] - 216s 384ms/step - loss: 0.0335 - accuracy: 0.9901 - recall_15: 0.9901 - val_loss: 0.0433 - val_accuracy: 0.9875 - val_recall_15: 0.9875\n",
      "Epoch 3/5\n",
      "562/562 [==============================] - 214s 380ms/step - loss: 0.0285 - accuracy: 0.9921 - recall_15: 0.9921 - val_loss: 0.0421 - val_accuracy: 0.9888 - val_recall_15: 0.9888\n",
      "Epoch 4/5\n",
      "562/562 [==============================] - 224s 398ms/step - loss: 0.0268 - accuracy: 0.9920 - recall_15: 0.9920 - val_loss: 0.0371 - val_accuracy: 0.9902 - val_recall_15: 0.9902\n",
      "Epoch 5/5\n",
      "562/562 [==============================] - 211s 375ms/step - loss: 0.0245 - accuracy: 0.9927 - recall_15: 0.9927 - val_loss: 0.0362 - val_accuracy: 0.9893 - val_recall_15: 0.9893\n"
     ]
    }
   ],
   "source": [
    "tmp = rnn3.fit(xtrain_pad, ytrain_ohe, validation_data=(xtest_pad, ytest_ohe), epochs=5, batch_size=64)\n",
    "LSTM2.append( tmp )"
   ]
  },
  {
   "cell_type": "code",
   "execution_count": 136,
   "metadata": {},
   "outputs": [
    {
     "name": "stdout",
     "output_type": "stream",
     "text": [
      "Epoch 1/5\n",
      "562/562 [==============================] - 196s 349ms/step - loss: 0.0223 - accuracy: 0.9932 - recall_15: 0.9932 - val_loss: 0.0363 - val_accuracy: 0.9905 - val_recall_15: 0.9905\n",
      "Epoch 2/5\n",
      "562/562 [==============================] - 197s 350ms/step - loss: 0.0214 - accuracy: 0.9937 - recall_15: 0.9937 - val_loss: 0.0456 - val_accuracy: 0.9871 - val_recall_15: 0.9871\n",
      "Epoch 3/5\n",
      "562/562 [==============================] - 197s 351ms/step - loss: 0.0183 - accuracy: 0.9948 - recall_15: 0.9948 - val_loss: 0.0363 - val_accuracy: 0.9913 - val_recall_15: 0.9913\n",
      "Epoch 4/5\n",
      "562/562 [==============================] - 270s 481ms/step - loss: 0.0173 - accuracy: 0.9946 - recall_15: 0.9946 - val_loss: 0.0347 - val_accuracy: 0.9913 - val_recall_15: 0.9913\n",
      "Epoch 5/5\n",
      "562/562 [==============================] - 321s 572ms/step - loss: 0.0157 - accuracy: 0.9955 - recall_15: 0.9955 - val_loss: 0.0379 - val_accuracy: 0.9905 - val_recall_15: 0.9905\n"
     ]
    }
   ],
   "source": [
    "tmp = rnn3.fit(xtrain_pad, ytrain_ohe, validation_data=(xtest_pad, ytest_ohe), epochs=5, batch_size=64)\n",
    "LSTM2.append( tmp )"
   ]
  },
  {
   "cell_type": "code",
   "execution_count": null,
   "metadata": {},
   "outputs": [],
   "source": [
    "rnn3.save('LSTM2')"
   ]
  },
  {
   "cell_type": "code",
   "execution_count": 224,
   "metadata": {},
   "outputs": [
    {
     "data": {
      "image/png": "[encoded data removed]",
      "text/plain": [
       "<Figure size 1080x360 with 3 Axes>"
      ]
     },
     "metadata": {
      "needs_background": "light"
     },
     "output_type": "display_data"
    }
   ],
   "source": [
    "plot_model(LSTM2, '15')"
   ]
  },
  {
   "cell_type": "code",
   "execution_count": 129,
   "metadata": {},
   "outputs": [
    {
     "name": "stdout",
     "output_type": "stream",
     "text": [
      "Model: \"sequential_20\"\n",
      "_________________________________________________________________\n",
      "Layer (type)                 Output Shape              Param #   \n",
      "=================================================================\n",
      "embedding_1 (Embedding)      (None, 300, 100)          1871700   \n",
      "_________________________________________________________________\n",
      "gru_7 (GRU)                  (None, 100)               60600     \n",
      "_________________________________________________________________\n",
      "dense_29 (Dense)             (None, 50)                5050      \n",
      "_________________________________________________________________\n",
      "dense_30 (Dense)             (None, 2)                 102       \n",
      "=================================================================\n",
      "Total params: 1,937,452\n",
      "Trainable params: 65,752\n",
      "Non-trainable params: 1,871,700\n",
      "_________________________________________________________________\n",
      "None\n"
     ]
    }
   ],
   "source": [
    "## GRU number 2\n",
    "\n",
    "rnn4 = Sequential()\n",
    "rnn4.add(embedding_layer)\n",
    "rnn4.add(GRU(100,dropout=0.3, recurrent_dropout=0.3))\n",
    "rnn4.add(Dense(50, activation='softmax',kernel_initializer='glorot_uniform'))\n",
    "rnn4.add(Dense(NUM_CLASSES, activation='softmax',kernel_initializer='glorot_uniform'))\n",
    "rnn4.compile(loss='binary_crossentropy', \n",
    "              optimizer='adam', \n",
    "              metrics=['accuracy', keras.metrics.Recall()])\n",
    "print(rnn4.summary())"
   ]
  },
  {
   "cell_type": "code",
   "execution_count": 130,
   "metadata": {},
   "outputs": [
    {
     "name": "stdout",
     "output_type": "stream",
     "text": [
      "Epoch 1/5\n",
      "562/562 [==============================] - 186s 331ms/step - loss: 0.3424 - accuracy: 0.9403 - recall_17: 0.9403 - val_loss: 0.2154 - val_accuracy: 0.9706 - val_recall_17: 0.9706\n",
      "Epoch 2/5\n",
      "562/562 [==============================] - 182s 324ms/step - loss: 0.1757 - accuracy: 0.9705 - recall_17: 0.9705 - val_loss: 0.1406 - val_accuracy: 0.9738 - val_recall_17: 0.9738\n",
      "Epoch 3/5\n",
      "562/562 [==============================] - 178s 317ms/step - loss: 0.1207 - accuracy: 0.9754 - recall_17: 0.9754 - val_loss: 0.1040 - val_accuracy: 0.9784 - val_recall_17: 0.9784\n",
      "Epoch 4/5\n",
      "562/562 [==============================] - 176s 314ms/step - loss: 0.0904 - accuracy: 0.9798 - recall_17: 0.9798 - val_loss: 0.0819 - val_accuracy: 0.9807 - val_recall_17: 0.9807\n",
      "Epoch 5/5\n",
      "562/562 [==============================] - 189s 336ms/step - loss: 0.0740 - accuracy: 0.9825 - recall_17: 0.9825 - val_loss: 0.0609 - val_accuracy: 0.9860 - val_recall_17: 0.9860\n"
     ]
    }
   ],
   "source": [
    "GRU2 = []\n",
    "tmp = rnn4.fit(xtrain_pad, ytrain_ohe, validation_data=(xtest_pad, ytest_ohe), epochs=5, batch_size=64)\n",
    "GRU2.append( tmp )"
   ]
  },
  {
   "cell_type": "code",
   "execution_count": 131,
   "metadata": {},
   "outputs": [
    {
     "name": "stdout",
     "output_type": "stream",
     "text": [
      "Epoch 1/5\n",
      "562/562 [==============================] - 179s 318ms/step - loss: 0.0597 - accuracy: 0.9848 - recall_17: 0.9848 - val_loss: 0.0564 - val_accuracy: 0.9859 - val_recall_17: 0.9859\n",
      "Epoch 2/5\n",
      "562/562 [==============================] - 170s 303ms/step - loss: 0.0497 - accuracy: 0.9869 - recall_17: 0.9869 - val_loss: 0.0494 - val_accuracy: 0.9878 - val_recall_17: 0.9878\n",
      "Epoch 3/5\n",
      "562/562 [==============================] - 176s 312ms/step - loss: 0.0445 - accuracy: 0.9880 - recall_17: 0.9880 - val_loss: 0.0424 - val_accuracy: 0.9891 - val_recall_17: 0.9891\n",
      "Epoch 4/5\n",
      "562/562 [==============================] - 175s 312ms/step - loss: 0.0406 - accuracy: 0.9893 - recall_17: 0.9893 - val_loss: 0.0444 - val_accuracy: 0.9882 - val_recall_17: 0.9882\n",
      "Epoch 5/5\n",
      "562/562 [==============================] - 176s 313ms/step - loss: 0.0394 - accuracy: 0.9895 - recall_17: 0.9895 - val_loss: 0.0414 - val_accuracy: 0.9892 - val_recall_17: 0.9892\n"
     ]
    }
   ],
   "source": [
    "tmp = rnn4.fit(xtrain_pad, ytrain_ohe, validation_data=(xtest_pad, ytest_ohe), epochs=5, batch_size=64)\n",
    "GRU2.append(tmp)"
   ]
  },
  {
   "cell_type": "code",
   "execution_count": 132,
   "metadata": {},
   "outputs": [
    {
     "name": "stdout",
     "output_type": "stream",
     "text": [
      "Epoch 1/5\n",
      "562/562 [==============================] - 172s 307ms/step - loss: 0.0327 - accuracy: 0.9910 - recall_17: 0.9910 - val_loss: 0.0379 - val_accuracy: 0.9908 - val_recall_17: 0.9908\n",
      "Epoch 2/5\n",
      "562/562 [==============================] - 170s 302ms/step - loss: 0.0283 - accuracy: 0.9916 - recall_17: 0.9916 - val_loss: 0.0355 - val_accuracy: 0.9918 - val_recall_17: 0.9918\n",
      "Epoch 3/5\n",
      "562/562 [==============================] - 211s 375ms/step - loss: 0.0253 - accuracy: 0.9923 - recall_17: 0.9923 - val_loss: 0.0356 - val_accuracy: 0.9912 - val_recall_17: 0.9912\n",
      "Epoch 4/5\n",
      "562/562 [==============================] - 275s 490ms/step - loss: 0.0256 - accuracy: 0.9918 - recall_17: 0.9918 - val_loss: 0.0345 - val_accuracy: 0.9920 - val_recall_17: 0.9920\n",
      "Epoch 5/5\n",
      "562/562 [==============================] - 274s 488ms/step - loss: 0.0224 - accuracy: 0.9935 - recall_17: 0.9935 - val_loss: 0.0386 - val_accuracy: 0.9905 - val_recall_17: 0.9905\n"
     ]
    }
   ],
   "source": [
    "tmp = rnn4.fit(xtrain_pad, ytrain_ohe, validation_data=(xtest_pad, ytest_ohe), epochs=5, batch_size=64)\n",
    "GRU2.append(tmp)"
   ]
  },
  {
   "cell_type": "code",
   "execution_count": 135,
   "metadata": {},
   "outputs": [
    {
     "name": "stdout",
     "output_type": "stream",
     "text": [
      "Epoch 1/5\n",
      "562/562 [==============================] - 184s 328ms/step - loss: 0.0205 - accuracy: 0.9939 - recall_17: 0.9939 - val_loss: 0.0371 - val_accuracy: 0.9914 - val_recall_17: 0.9914\n",
      "Epoch 2/5\n",
      "562/562 [==============================] - 178s 317ms/step - loss: 0.0179 - accuracy: 0.9944 - recall_17: 0.9944 - val_loss: 0.0386 - val_accuracy: 0.9909 - val_recall_17: 0.9909\n",
      "Epoch 3/5\n",
      "562/562 [==============================] - 168s 299ms/step - loss: 0.0172 - accuracy: 0.9945 - recall_17: 0.9945 - val_loss: 0.0333 - val_accuracy: 0.9923 - val_recall_17: 0.9923\n",
      "Epoch 4/5\n",
      "562/562 [==============================] - 168s 299ms/step - loss: 0.0349 - accuracy: 0.9918 - recall_17: 0.9918 - val_loss: 0.0354 - val_accuracy: 0.9918 - val_recall_17: 0.9918\n",
      "Epoch 5/5\n",
      "562/562 [==============================] - 168s 300ms/step - loss: 0.0147 - accuracy: 0.9953 - recall_17: 0.9953 - val_loss: 0.0349 - val_accuracy: 0.9920 - val_recall_17: 0.9920\n"
     ]
    }
   ],
   "source": [
    "tmp = rnn4.fit(xtrain_pad, ytrain_ohe, validation_data=(xtest_pad, ytest_ohe), epochs=5, batch_size=64)\n",
    "GRU2.append(tmp)"
   ]
  },
  {
   "cell_type": "code",
   "execution_count": null,
   "metadata": {},
   "outputs": [],
   "source": [
    "rnn4.save('GRU2')"
   ]
  },
  {
   "cell_type": "code",
   "execution_count": 226,
   "metadata": {},
   "outputs": [
    {
     "data": {
      "image/png": "[encoded data removed]",
      "text/plain": [
       "<Figure size 1080x360 with 3 Axes>"
      ]
     },
     "metadata": {
      "needs_background": "light"
     },
     "output_type": "display_data"
    }
   ],
   "source": [
    "plot_model(GRU2, '17')"
   ]
  },
  {
   "cell_type": "code",
   "execution_count": 221,
   "metadata": {},
   "outputs": [],
   "source": [
    "def plot_model(history, recallNum):\n",
    "    # combine all the history from training together\n",
    "    \n",
    "    var = 'recall_' + str(recallNum)\n",
    "    var2 = 'val_recall_' +str(recallNum)\n",
    "\n",
    "    combined = dict()\n",
    "    for key in ['accuracy','val_accuracy','loss','val_loss', var , var2]:\n",
    "        combined[key] = np.hstack([x.history[key] for x in history])\n",
    "\n",
    "    plt.figure(figsize=(15,5))\n",
    "\n",
    "    # summarize history for accuracy\n",
    "    plt.subplot(131)\n",
    "    plt.plot(combined['accuracy'])\n",
    "    plt.plot(combined['val_accuracy'])\n",
    "    plt.title('model accuracy')\n",
    "    plt.ylabel('accuracy')\n",
    "    plt.xlabel('epoch')\n",
    "    plt.legend(['train', 'test'], loc='upper left')\n",
    "\n",
    "    # summarize history for loss\n",
    "    plt.subplot(132)\n",
    "    plt.plot(combined['loss'])\n",
    "    plt.plot(combined['val_loss'])\n",
    "    plt.title('model loss')\n",
    "    plt.ylabel('loss')\n",
    "    plt.xlabel('epoch')\n",
    "    plt.legend(['train', 'test'], loc='upper left')\n",
    "    \n",
    "    # summarize history for recall\n",
    "    plt.subplot(133)\n",
    "    plt.plot(combined[var])\n",
    "    plt.plot(combined[var2])\n",
    "    plt.title('model recall')\n",
    "    plt.ylabel('recall')\n",
    "    plt.xlabel('epoch')\n",
    "    plt.legend(['train', 'test'], loc='upper left')\n",
    "    plt.show()\n",
    "    "
   ]
  },
  {
   "cell_type": "markdown",
   "metadata": {},
   "source": [
    "## 2nd Recurrent Chain\n",
    "\n",
    "For our next model we will use 2 GRU recurrent chains following the embedding layer. The output of the first GRU will be the input to the next."
   ]
  },
  {
   "cell_type": "code",
   "execution_count": 227,
   "metadata": {},
   "outputs": [
    {
     "name": "stdout",
     "output_type": "stream",
     "text": [
      "Model: \"sequential_23\"\n",
      "_________________________________________________________________\n",
      "Layer (type)                 Output Shape              Param #   \n",
      "=================================================================\n",
      "embedding_1 (Embedding)      (None, 300, 100)          1871700   \n",
      "_________________________________________________________________\n",
      "gru_9 (GRU)                  (None, 300, 100)          60600     \n",
      "_________________________________________________________________\n",
      "gru_10 (GRU)                 (None, 50)                22800     \n",
      "_________________________________________________________________\n",
      "dense_33 (Dense)             (None, 25)                1275      \n",
      "_________________________________________________________________\n",
      "dense_34 (Dense)             (None, 2)                 52        \n",
      "=================================================================\n",
      "Total params: 1,956,427\n",
      "Trainable params: 84,727\n",
      "Non-trainable params: 1,871,700\n",
      "_________________________________________________________________\n",
      "None\n"
     ]
    }
   ],
   "source": [
    "## Model with 2 GRU recurrent chains\n",
    "\n",
    "rnn4 = Sequential()\n",
    "rnn4.add(embedding_layer)\n",
    "rnn4.add(GRU(100,dropout=0.3, recurrent_dropout=0.3, return_sequences=True))\n",
    "rnn4.add(GRU(50,dropout=0.3, recurrent_dropout=0.3))\n",
    "rnn4.add(Dense(25, activation='softmax',kernel_initializer='glorot_uniform'))\n",
    "rnn4.add(Dense(NUM_CLASSES, activation='softmax',kernel_initializer='glorot_uniform'))\n",
    "rnn4.compile(loss='binary_crossentropy', \n",
    "              optimizer='adam', \n",
    "              metrics=['accuracy', keras.metrics.Recall()])\n",
    "print(rnn4.summary())"
   ]
  },
  {
   "cell_type": "code",
   "execution_count": null,
   "metadata": {},
   "outputs": [
    {
     "name": "stdout",
     "output_type": "stream",
     "text": [
      "Epoch 1/5\n",
      "562/562 [==============================] - 601s 1s/step - loss: 0.3287 - accuracy: 0.9391 - recall_20: 0.9391 - val_loss: 0.2279 - val_accuracy: 0.9601 - val_recall_20: 0.9601\n",
      "Epoch 2/5\n",
      "405/562 [====================>.........] - ETA: 2:30 - loss: 0.1903 - accuracy: 0.9658 - recall_20: 0.9658"
     ]
    }
   ],
   "source": [
    "GRU_2chains = []\n",
    "tmp = rnn4.fit(xtrain_pad, ytrain_ohe, validation_data=(xtest_pad, ytest_ohe), epochs=5, batch_size=64)\n",
    "GRU_2chains.append( tmp )"
   ]
  },
  {
   "cell_type": "code",
   "execution_count": null,
   "metadata": {},
   "outputs": [],
   "source": [
    "tmp = rnn4.fit(xtrain_pad, ytrain_ohe, validation_data=(xtest_pad, ytest_ohe), epochs=5, batch_size=64)\n",
    "GRU_2chains.append( tmp )"
   ]
  },
  {
   "cell_type": "code",
   "execution_count": null,
   "metadata": {},
   "outputs": [],
   "source": [
    "tmp = rnn4.fit(xtrain_pad, ytrain_ohe, validation_data=(xtest_pad, ytest_ohe), epochs=5, batch_size=64)\n",
    "GRU_2chains.append( tmp )"
   ]
  },
  {
   "cell_type": "code",
   "execution_count": null,
   "metadata": {},
   "outputs": [],
   "source": [
    "tmp = rnn4.fit(xtrain_pad, ytrain_ohe, validation_data=(xtest_pad, ytest_ohe), epochs=5, batch_size=64)\n",
    "GRU_2chains.append( tmp )"
   ]
  },
  {
   "cell_type": "code",
   "execution_count": null,
   "metadata": {},
   "outputs": [],
   "source": [
    "plot_model(GRU_2chains, '20')"
   ]
  },
  {
   "cell_type": "markdown",
   "metadata": {},
   "source": [
    "## Visualizing Performance and Comparing Models\n",
    "\n",
    "In this section we will plot the model accuracy, loss, and recall of each recurrent neural network we have trained. \n",
    "\n",
    "First we will look at the confusion matrices / heat maps of the models."
   ]
  },
  {
   "cell_type": "code",
   "execution_count": null,
   "metadata": {},
   "outputs": [],
   "source": []
  }
 ],
 "metadata": {
  "kernelspec": {
   "display_name": "Python 3",
   "language": "python",
   "name": "python3"
  },
  "language_info": {
   "codemirror_mode": {
    "name": "ipython",
    "version": 3
   },
   "file_extension": ".py",
   "mimetype": "text/x-python",
   "name": "python",
   "nbconvert_exporter": "python",
   "pygments_lexer": "ipython3",
   "version": "3.7.4"
  }
 },
 "nbformat": 4,
 "nbformat_minor": 4
}
